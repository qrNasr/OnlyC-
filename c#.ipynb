{
 "cells": [
  {
   "cell_type": "markdown",
   "metadata": {},
   "source": [
    "#Hashet"
   ]
  },
  {
   "cell_type": "code",
   "execution_count": null,
   "metadata": {
    "dotnet_interactive": {
     "language": "csharp"
    },
    "vscode": {
     "languageId": "dotnet-interactive.csharp"
    }
   },
   "outputs": [
    {
     "name": "stdout",
     "output_type": "stream",
     "text": [
      "111\n",
      "222\n",
      "333\n",
      "444\n",
      "555\n"
     ]
    }
   ],
   "source": [
    "// fast, unodered, does not allow repeated values\n",
    "HashSet<int> hs = new HashSet<int>();\n",
    "hs.Add(111); \n",
    "hs.Add(222); \n",
    "hs.Add(333); \n",
    "hs.Add(444); \n",
    "hs.Add(555); \n",
    "// convert hashset to an array\n",
    "var my=hs.ToArray();\n",
    "Console.WriteLine(my[0]);\n",
    "Console.WriteLine(my[1]);\n",
    "Console.WriteLine(my[2]);\n",
    "Console.WriteLine(my[3]);\n",
    "Console.WriteLine(my[4]);\n",
    "\n"
   ]
  },
  {
   "cell_type": "code",
   "execution_count": null,
   "metadata": {
    "dotnet_interactive": {
     "language": "csharp"
    },
    "vscode": {
     "languageId": "dotnet-interactive.csharp"
    }
   },
   "outputs": [
    {
     "name": "stdout",
     "output_type": "stream",
     "text": [
      "Count now : 0\n",
      "Count now : 3\n",
      "Count now : 3\n",
      "Count now : 5\n",
      "Count now : 4\n"
     ]
    }
   ],
   "source": [
    "//does not allow repeated values\n",
    "HashSet<int> hs = new HashSet<int>();\n",
    "\n",
    "Console.WriteLine(\"Count now : {0}\",  hs.Count);// zero value addeed\n",
    "hs.Add(111); \n",
    "hs.Add(222); \n",
    "hs.Add(333); \n",
    "\n",
    "Console.WriteLine(\"Count now : {0}\",  hs.Count);// added 3 values\n",
    "hs.Add(111); \n",
    "hs.Add(333); \n",
    "hs.Add(333);\n",
    "hs.Add(333);\n",
    "\n",
    "Console.WriteLine(\"Count now : {0}\",  hs.Count); \n",
    "hs.Add(444);\n",
    "hs.Add(555);\n",
    "\n",
    "Console.WriteLine(\"Count now : {0}\",  hs.Count);\n",
    "hs.Remove(333);\n",
    "Console.WriteLine(\"Count now : {0}\",  hs.Count);"
   ]
  },
  {
   "cell_type": "markdown",
   "metadata": {},
   "source": [
    "## Reverse objects"
   ]
  },
  {
   "cell_type": "code",
   "execution_count": null,
   "metadata": {
    "dotnet_interactive": {
     "language": "csharp"
    },
    "vscode": {
     "languageId": "dotnet-interactive.csharp"
    }
   },
   "outputs": [
    {
     "name": "stdout",
     "output_type": "stream",
     "text": [
      "3\n",
      "2\n",
      "1\n"
     ]
    }
   ],
   "source": [
    "int [] num = new int []{1,2,3};\n",
    "num=num.Reverse().ToArray();\n",
    "Console.WriteLine(num[0]);\n",
    "Console.WriteLine(num[1]);\n",
    "Console.WriteLine(num[2]);"
   ]
  },
  {
   "cell_type": "markdown",
   "metadata": {},
   "source": [
    "# reverse a list using List<>"
   ]
  },
  {
   "cell_type": "code",
   "execution_count": null,
   "metadata": {
    "dotnet_interactive": {
     "language": "csharp"
    },
    "vscode": {
     "languageId": "dotnet-interactive.csharp"
    }
   },
   "outputs": [
    {
     "name": "stdout",
     "output_type": "stream",
     "text": [
      "3\n",
      "2\n",
      "1\n"
     ]
    }
   ],
   "source": [
    "List<int> num = new List<int>();\n",
    "num.Add(1);\n",
    "num.Add(2);\n",
    "num.Add(3);\n",
    "num.Reverse();\n",
    "Console.WriteLine(num[0]);\n",
    "Console.WriteLine(num[1]);\n",
    "Console.WriteLine(num[2]);"
   ]
  },
  {
   "cell_type": "markdown",
   "metadata": {},
   "source": [
    "# Single-Dimensional Arrays"
   ]
  },
  {
   "cell_type": "markdown",
   "metadata": {},
   "source": [
    "You create a single-dimensional array using the new operator specifying the array element type and the number of elements. The following example declares an array of five integers:"
   ]
  },
  {
   "cell_type": "code",
   "execution_count": null,
   "metadata": {
    "dotnet_interactive": {
     "language": "csharp"
    },
    "vscode": {
     "languageId": "dotnet-interactive.csharp"
    }
   },
   "outputs": [],
   "source": [
    "int[] array = new int[5];"
   ]
  },
  {
   "cell_type": "markdown",
   "metadata": {},
   "source": [
    "This array contains the elements from array[0] to array[4]. The elements of the array are initialized to the default value of the element type, 0 for integers.\n",
    "\n",
    "Arrays can store any element type you specify, such as the following example that declares an array of strings:"
   ]
  },
  {
   "cell_type": "code",
   "execution_count": null,
   "metadata": {
    "dotnet_interactive": {
     "language": "csharp"
    },
    "vscode": {
     "languageId": "dotnet-interactive.csharp"
    }
   },
   "outputs": [],
   "source": [
    "string[] stringArray = new string[6];"
   ]
  },
  {
   "cell_type": "markdown",
   "metadata": {},
   "source": [
    "## Array Initialization\n"
   ]
  },
  {
   "cell_type": "markdown",
   "metadata": {},
   "source": [
    "\n",
    "You can initialize the elements of an array when you declare the array. The length specifier isn't needed because it's inferred by the number of elements in the initialization list. For exa"
   ]
  },
  {
   "cell_type": "code",
   "execution_count": null,
   "metadata": {
    "dotnet_interactive": {
     "language": "csharp"
    },
    "vscode": {
     "languageId": "dotnet-interactive.csharp"
    }
   },
   "outputs": [],
   "source": [
    "int[] array1 = new int[] { 1, 3, 5, 7, 9 };"
   ]
  },
  {
   "cell_type": "markdown",
   "metadata": {},
   "source": [
    "The following code shows a declaration of a string array where each array element is initialized by a name of a day:"
   ]
  },
  {
   "cell_type": "code",
   "execution_count": null,
   "metadata": {
    "dotnet_interactive": {
     "language": "csharp"
    },
    "vscode": {
     "languageId": "dotnet-interactive.csharp"
    }
   },
   "outputs": [],
   "source": [
    "string[] weekDays = new string[] { \"Sun\", \"Mon\", \"Tue\", \"Wed\", \"Thu\", \"Fri\", \"Sat\" };"
   ]
  },
  {
   "cell_type": "markdown",
   "metadata": {},
   "source": [
    "You can avoid the new expression and the array type when you initialize an array upon declaration, as shown in the following code. This is called an implicitly typed array:"
   ]
  },
  {
   "cell_type": "code",
   "execution_count": null,
   "metadata": {
    "dotnet_interactive": {
     "language": "csharp"
    },
    "vscode": {
     "languageId": "dotnet-interactive.csharp"
    }
   },
   "outputs": [],
   "source": [
    "int[] array2 = { 1, 3, 5, 7, 9 };\n",
    "string[] weekDays2 = { \"Sun\", \"Mon\", \"Tue\", \"Wed\", \"Thu\", \"Fri\", \"Sat\" };"
   ]
  },
  {
   "cell_type": "markdown",
   "metadata": {},
   "source": [
    "You can declare an array variable without creating it, but you must use the new operator when you assign a new array to this variable. For example:"
   ]
  },
  {
   "cell_type": "code",
   "execution_count": null,
   "metadata": {
    "dotnet_interactive": {
     "language": "csharp"
    },
    "vscode": {
     "languageId": "dotnet-interactive.csharp"
    }
   },
   "outputs": [],
   "source": [
    "int[] array3;\n",
    "array3 = new int[] { 1, 3, 5, 7, 9 };   // OK\n",
    "//array3 = {1, 3, 5, 7, 9};   // Error"
   ]
  },
  {
   "cell_type": "markdown",
   "metadata": {},
   "source": [
    "## Value Type and Reference Type Arrays"
   ]
  },
  {
   "cell_type": "markdown",
   "metadata": {},
   "source": [
    "Consider the following array declaration:"
   ]
  },
  {
   "cell_type": "markdown",
   "metadata": {},
   "source": [
    "SomeType[] array4 = new SomeType[10];"
   ]
  },
  {
   "cell_type": "markdown",
   "metadata": {},
   "source": [
    "The result of this statement depends on whether SomeType is a value type or a reference type. If it's a value type, the statement creates an array of 10 elements, each of which has the type SomeType. If SomeType is a reference type, the statement creates an array of 10 elements, each of which is initialized to a null reference. In both instances, the elements are initialized to the default value for the element type. For more information about value types and reference types, see Value types and Reference types.\n"
   ]
  },
  {
   "cell_type": "markdown",
   "metadata": {},
   "source": [
    "### Retrieving data from Array"
   ]
  },
  {
   "cell_type": "markdown",
   "metadata": {},
   "source": [
    "You can retrieve the data of an array by using an index. For examp"
   ]
  },
  {
   "cell_type": "code",
   "execution_count": null,
   "metadata": {
    "dotnet_interactive": {
     "language": "csharp"
    },
    "vscode": {
     "languageId": "dotnet-interactive.csharp"
    }
   },
   "outputs": [
    {
     "name": "stdout",
     "output_type": "stream",
     "text": [
      "Sun\n",
      "Mon\n",
      "Tue\n",
      "Wed\n",
      "Thu\n",
      "Fri\n",
      "Sat\n"
     ]
    }
   ],
   "source": [
    "string[] weekDays2 = { \"Sun\", \"Mon\", \"Tue\", \"Wed\", \"Thu\", \"Fri\", \"Sat\" };\n",
    "\n",
    "Console.WriteLine(weekDays2[0]);\n",
    "Console.WriteLine(weekDays2[1]);\n",
    "Console.WriteLine(weekDays2[2]);\n",
    "Console.WriteLine(weekDays2[3]);\n",
    "Console.WriteLine(weekDays2[4]);\n",
    "Console.WriteLine(weekDays2[5]);\n",
    "Console.WriteLine(weekDays2[6]);"
   ]
  },
  {
   "cell_type": "markdown",
   "metadata": {},
   "source": [
    "# MultiDimensionaly Array"
   ]
  },
  {
   "cell_type": "markdown",
   "metadata": {},
   "source": [
    "### Its array of arrays"
   ]
  },
  {
   "cell_type": "markdown",
   "metadata": {},
   "source": [
    "Arrays can have more than one dimension. For example, the following declaration creates a two-dimensional array of four rows and two columns."
   ]
  },
  {
   "cell_type": "code",
   "execution_count": null,
   "metadata": {
    "dotnet_interactive": {
     "language": "csharp"
    },
    "vscode": {
     "languageId": "dotnet-interactive.csharp"
    }
   },
   "outputs": [],
   "source": [
    "int[,] array = new int[4, 2];"
   ]
  },
  {
   "cell_type": "markdown",
   "metadata": {},
   "source": [
    "The following declaration creates an array of three dimensions, 4, 2, and 3."
   ]
  },
  {
   "cell_type": "code",
   "execution_count": null,
   "metadata": {
    "dotnet_interactive": {
     "language": "csharp"
    },
    "vscode": {
     "languageId": "dotnet-interactive.csharp"
    }
   },
   "outputs": [],
   "source": [
    "int[,,] array1 = new int[4, 2, 3];"
   ]
  },
  {
   "cell_type": "markdown",
   "metadata": {},
   "source": [
    "Array Initialization\n",
    "\n",
    "You can initialize the array upon declaration, as is shown in the following example."
   ]
  },
  {
   "cell_type": "code",
   "execution_count": null,
   "metadata": {
    "dotnet_interactive": {
     "language": "csharp"
    },
    "vscode": {
     "languageId": "dotnet-interactive.csharp"
    }
   },
   "outputs": [
    {
     "name": "stdout",
     "output_type": "stream",
     "text": [
      "1\n",
      "2\n",
      "3\n",
      "4\n",
      "7\n",
      "three\n",
      "8\n",
      "12\n",
      "12 equals 12\n"
     ]
    }
   ],
   "source": [
    "// Two-dimensional array.\n",
    "int[,] array2D = new int[,] { { 1, 2 }, { 3, 4 }, { 5, 6 }, { 7, 8 } };\n",
    "// The same array with dimensions specified.\n",
    "int[,] array2Da = new int[4, 2] { { 1, 2 }, { 3, 4 }, { 5, 6 }, { 7, 8 } };\n",
    "// A similar array with string elements.\n",
    "string[,] array2Db = new string[3, 2] { { \"one\", \"two\" }, { \"three\", \"four\" },\n",
    "                                        { \"five\", \"six\" } };\n",
    "\n",
    "// Three-dimensional array.\n",
    "int[,,] array3D = new int[,,] { { { 1, 2, 3 }, { 4, 5, 6 } },\n",
    "                                 { { 7, 8, 9 }, { 10, 11, 12 } } };\n",
    "// The same array with dimensions specified.\n",
    "int[,,] array3Da = new int[2, 2, 3] { { { 1, 2, 3 }, { 4, 5, 6 } },\n",
    "                                       { { 7, 8, 9 }, { 10, 11, 12 } } };\n",
    "\n",
    "// Accessing array elements.\n",
    "System.Console.WriteLine(array2D[0, 0]);\n",
    "System.Console.WriteLine(array2D[0, 1]);\n",
    "System.Console.WriteLine(array2D[1, 0]);\n",
    "System.Console.WriteLine(array2D[1, 1]);\n",
    "System.Console.WriteLine(array2D[3, 0]);\n",
    "System.Console.WriteLine(array2Db[1, 0]);\n",
    "System.Console.WriteLine(array3Da[1, 0, 1]);\n",
    "System.Console.WriteLine(array3D[1, 1, 2]);\n",
    "\n",
    "// Getting the total count of elements or the length of a given dimension.\n",
    "var allLength = array3D.Length;\n",
    "var total = 1;\n",
    "for (int i = 0; i < array3D.Rank; i++)\n",
    "{\n",
    "    total *= array3D.GetLength(i);\n",
    "}\n",
    "System.Console.WriteLine(\"{0} equals {1}\", allLength, total);\n",
    "\n",
    "// Output:\n",
    "// 1\n",
    "// 2\n",
    "// 3\n",
    "// 4\n",
    "// 7\n",
    "// three\n",
    "// 8\n",
    "// 12\n",
    "// 12 equals 12"
   ]
  },
  {
   "cell_type": "markdown",
   "metadata": {},
   "source": [
    "You can also initialize the array without specifying the rank."
   ]
  },
  {
   "cell_type": "code",
   "execution_count": null,
   "metadata": {
    "dotnet_interactive": {
     "language": "csharp"
    },
    "vscode": {
     "languageId": "dotnet-interactive.csharp"
    }
   },
   "outputs": [],
   "source": [
    "int[,] array4 = { { 1, 2 }, { 3, 4 }, { 5, 6 }, { 7, 8 } };"
   ]
  },
  {
   "cell_type": "markdown",
   "metadata": {},
   "source": [
    "If you choose to declare an array variable without initialization, you must use the new operator to assign an array to the variable. The use of new is shown in the following example."
   ]
  },
  {
   "cell_type": "code",
   "execution_count": null,
   "metadata": {
    "dotnet_interactive": {
     "language": "csharp"
    },
    "vscode": {
     "languageId": "dotnet-interactive.csharp"
    }
   },
   "outputs": [],
   "source": [
    "int[,] array5;\n",
    "array5 = new int[,] { { 1, 2 }, { 3, 4 }, { 5, 6 }, { 7, 8 } };   // OK\n",
    "//array5 = {{1,2}, {3,4}, {5,6}, {7,8}};   // Error"
   ]
  },
  {
   "cell_type": "markdown",
   "metadata": {},
   "source": [
    "The following example assigns a value to a particular array element."
   ]
  },
  {
   "cell_type": "code",
   "execution_count": null,
   "metadata": {
    "dotnet_interactive": {
     "language": "csharp"
    },
    "vscode": {
     "languageId": "dotnet-interactive.csharp"
    }
   },
   "outputs": [
    {
     "ename": "Error",
     "evalue": "(1,1): error CS0103: The name 'arrayz' does not exist in the current context",
     "output_type": "error",
     "traceback": [
      "(1,1): error CS0103: The name 'arrayz' does not exist in the current context"
     ]
    }
   ],
   "source": [
    "arrayz[2, 1] = 25;"
   ]
  },
  {
   "cell_type": "markdown",
   "metadata": {},
   "source": [
    "Similarly, the following example gets the value of a particular array element and assigns it to variable elementValue."
   ]
  },
  {
   "cell_type": "code",
   "execution_count": null,
   "metadata": {
    "dotnet_interactive": {
     "language": "csharp"
    },
    "vscode": {
     "languageId": "dotnet-interactive.csharp"
    }
   },
   "outputs": [
    {
     "ename": "Error",
     "evalue": "(1,20): error CS0103: The name 'arrayz' does not exist in the current context",
     "output_type": "error",
     "traceback": [
      "(1,20): error CS0103: The name 'arrayz' does not exist in the current context"
     ]
    }
   ],
   "source": [
    "int elementValue = arrayz[2, 1];"
   ]
  },
  {
   "cell_type": "markdown",
   "metadata": {},
   "source": [
    "The following code example initializes the array elements to default values (except for jagged arrays)."
   ]
  },
  {
   "cell_type": "markdown",
   "metadata": {},
   "source": [
    "# Jagged Arrays"
   ]
  },
  {
   "cell_type": "markdown",
   "metadata": {},
   "source": [
    "A jagged array is an array whose elements are arrays, possibly of different sizes. A jagged array is sometimes called an \"array of arrays.\" The following examples show how to declare, initialize, and access jagged arrays.\n",
    "\n",
    "The following is a declaration of a single-dimensional array that has three elements, each of which is a single-dimensional array of integers:"
   ]
  },
  {
   "cell_type": "code",
   "execution_count": null,
   "metadata": {
    "dotnet_interactive": {
     "language": "csharp"
    },
    "vscode": {
     "languageId": "dotnet-interactive.csharp"
    }
   },
   "outputs": [],
   "source": [
    "int[][] jaggedArray = new int[3][];"
   ]
  },
  {
   "cell_type": "code",
   "execution_count": null,
   "metadata": {
    "dotnet_interactive": {
     "language": "csharp"
    },
    "vscode": {
     "languageId": "dotnet-interactive.csharp"
    }
   },
   "outputs": [],
   "source": [
    "int[,] array6 = new int[10, 10];"
   ]
  },
  {
   "cell_type": "markdown",
   "metadata": {},
   "source": [
    "Before you can use jaggedArray, its elements must be initialized. You can initialize the elements like th"
   ]
  },
  {
   "cell_type": "code",
   "execution_count": null,
   "metadata": {
    "dotnet_interactive": {
     "language": "csharp"
    },
    "vscode": {
     "languageId": "dotnet-interactive.csharp"
    }
   },
   "outputs": [
    {
     "ename": "Error",
     "evalue": "(1,1): error CS0103: The name 'jArray' does not exist in the current context\n(2,1): error CS0103: The name 'jArray' does not exist in the current context\n(3,1): error CS0103: The name 'jArray' does not exist in the current context",
     "output_type": "error",
     "traceback": [
      "(1,1): error CS0103: The name 'jArray' does not exist in the current context\n",
      "(2,1): error CS0103: The name 'jArray' does not exist in the current context\n",
      "(3,1): error CS0103: The name 'jArray' does not exist in the current context"
     ]
    }
   ],
   "source": [
    "jArray[0] = new int[5];\n",
    "jArray[1] = new int[4];\n",
    "jArray[2] = new int[2];"
   ]
  },
  {
   "cell_type": "markdown",
   "metadata": {},
   "source": [
    "Each of the elements is a single-dimensional array of integers. The first element is an array of 5 integers, the second is an array of 4 integers, and the third is an array of 2 integers.\n",
    "\n",
    "It is also possible to use initializers to fill the array elements with values, in which case you do not need the array size. For example:"
   ]
  },
  {
   "cell_type": "code",
   "execution_count": null,
   "metadata": {
    "dotnet_interactive": {
     "language": "csharp"
    },
    "vscode": {
     "languageId": "dotnet-interactive.csharp"
    }
   },
   "outputs": [],
   "source": [
    "jaggedArray[0] = new int[] { 1, 3, 5, 7, 9 };\n",
    "jaggedArray[1] = new int[] { 0, 2, 4, 6 };\n",
    "jaggedArray[2] = new int[] { 11, 22 };"
   ]
  },
  {
   "cell_type": "markdown",
   "metadata": {},
   "source": [
    "You can also initialize the array upon declaration like this:"
   ]
  },
  {
   "cell_type": "code",
   "execution_count": null,
   "metadata": {
    "dotnet_interactive": {
     "language": "csharp"
    },
    "vscode": {
     "languageId": "dotnet-interactive.csharp"
    }
   },
   "outputs": [],
   "source": [
    "int[][] jaggedArray2 = new int[][]\n",
    "{\n",
    "new int[] { 1, 3, 5, 7, 9 },\n",
    "new int[] { 0, 2, 4, 6 },\n",
    "new int[] { 11, 22 }\n",
    "};"
   ]
  },
  {
   "cell_type": "markdown",
   "metadata": {},
   "source": [
    "You can use the following shorthand form. Notice that you cannot omit the new operator from the elements initialization because there is no default initialization for the elements:"
   ]
  },
  {
   "cell_type": "code",
   "execution_count": null,
   "metadata": {
    "dotnet_interactive": {
     "language": "csharp"
    },
    "vscode": {
     "languageId": "dotnet-interactive.csharp"
    }
   },
   "outputs": [],
   "source": [
    "int[][] jaggedArray3 =\n",
    "{\n",
    "    new int[] { 1, 3, 5, 7, 9 },\n",
    "    new int[] { 0, 2, 4, 6 },\n",
    "    new int[] { 11, 22 }\n",
    "};"
   ]
  },
  {
   "cell_type": "markdown",
   "metadata": {},
   "source": [
    "You can use the following shorthand form. Notice that you cannot omit the new operator from the elements initialization because there is no default initialization for the elements:"
   ]
  },
  {
   "cell_type": "code",
   "execution_count": null,
   "metadata": {
    "dotnet_interactive": {
     "language": "csharp"
    },
    "vscode": {
     "languageId": "dotnet-interactive.csharp"
    }
   },
   "outputs": [],
   "source": [
    "int[][] jaggedArray3 =\n",
    "{\n",
    "    new int[] { 1, 3, 5, 7, 9 },\n",
    "    new int[] { 0, 2, 4, 6 },\n",
    "    new int[] { 11, 22 }\n",
    "};"
   ]
  },
  {
   "cell_type": "markdown",
   "metadata": {},
   "source": [
    "A jagged array is an array of arrays, and therefore its elements are reference types and are initialized to null.\n",
    "\n",
    "You can access individual array elements like these examples:"
   ]
  },
  {
   "cell_type": "code",
   "execution_count": null,
   "metadata": {
    "dotnet_interactive": {
     "language": "csharp"
    },
    "vscode": {
     "languageId": "dotnet-interactive.csharp"
    }
   },
   "outputs": [],
   "source": [
    "// Assign 77 to the second element ([1]) of the first array ([0]):\n",
    "jaggedArray3[0][1] = 77;\n",
    "\n",
    "// Assign 88 to the second element ([1]) of the third array ([2]):\n",
    "jaggedArray3[2][1] = 88;"
   ]
  },
  {
   "cell_type": "markdown",
   "metadata": {},
   "source": [
    "It's possible to mix jagged and multidimensional arrays. The following is a declaration and initialization of a single-dimensional jagged array that contains three two-dimensional array elements of different sizes. For more information, see Multidimensional Arrays."
   ]
  },
  {
   "cell_type": "code",
   "execution_count": null,
   "metadata": {
    "dotnet_interactive": {
     "language": "csharp"
    },
    "vscode": {
     "languageId": "dotnet-interactive.csharp"
    }
   },
   "outputs": [],
   "source": [
    "int[][,] jaggedArray4 = new int[3][,]\n",
    "{\n",
    "    new int[,] { {1,3}, {5,7} },\n",
    "    new int[,] { {0,2}, {4,6}, {8,10} },\n",
    "    new int[,] { {11,22}, {99,88}, {0,9} }\n",
    "};"
   ]
  },
  {
   "cell_type": "markdown",
   "metadata": {},
   "source": [
    "You can access individual elements as shown in this example, which displays the value of the element [1,0] of the first array (value 5):"
   ]
  },
  {
   "cell_type": "code",
   "execution_count": null,
   "metadata": {
    "dotnet_interactive": {
     "language": "csharp"
    },
    "vscode": {
     "languageId": "dotnet-interactive.csharp"
    }
   },
   "outputs": [
    {
     "name": "stdout",
     "output_type": "stream",
     "text": [
      "5"
     ]
    }
   ],
   "source": [
    "System.Console.Write(\"{0}\", jaggedArray4[0][1, 0]);"
   ]
  },
  {
   "cell_type": "markdown",
   "metadata": {},
   "source": [
    "The method Length returns the number of arrays contained in the jagged array. For example, assuming you have declared the previous array, this line:"
   ]
  },
  {
   "cell_type": "code",
   "execution_count": null,
   "metadata": {
    "dotnet_interactive": {
     "language": "csharp"
    },
    "vscode": {
     "languageId": "dotnet-interactive.csharp"
    }
   },
   "outputs": [
    {
     "name": "stdout",
     "output_type": "stream",
     "text": [
      "3\n"
     ]
    }
   ],
   "source": [
    "System.Console.WriteLine(jaggedArray4.Length);"
   ]
  },
  {
   "cell_type": "markdown",
   "metadata": {},
   "source": [
    "This example builds an array whose elements are themselves arrays. Each one of the array elements has a different size."
   ]
  },
  {
   "cell_type": "code",
   "execution_count": null,
   "metadata": {
    "dotnet_interactive": {
     "language": "csharp"
    },
    "vscode": {
     "languageId": "dotnet-interactive.csharp"
    }
   },
   "outputs": [],
   "source": [
    "class ArrayTest\n",
    "{\n",
    "    static void Main()\n",
    "    {\n",
    "        // Declare the array of two elements.\n",
    "        int[][] arr = new int[2][];\n",
    "\n",
    "        // Initialize the elements.\n",
    "        arr[0] = new int[5] { 1, 3, 5, 7, 9 };\n",
    "        arr[1] = new int[4] { 2, 4, 6, 8 };\n",
    "\n",
    "        // Display the array elements.\n",
    "        for (int i = 0; i < arr.Length; i++)\n",
    "        {\n",
    "            System.Console.Write(\"Element({0}): \", i);\n",
    "\n",
    "            for (int j = 0; j < arr[i].Length; j++)\n",
    "            {\n",
    "                System.Console.Write(\"{0}{1}\", arr[i][j], j == (arr[i].Length - 1) ? \"\" : \" \");\n",
    "            }\n",
    "            System.Console.WriteLine();\n",
    "        }\n",
    "        // Keep the console window open in debug mode.\n",
    "        System.Console.WriteLine(\"Press any key to exit.\");\n",
    "        System.Console.ReadKey();\n",
    "    }\n",
    "}\n",
    "/* Output:\n",
    "    Element(0): 1 3 5 7 9\n",
    "    Element(1): 2 4 6 8\n",
    "*/"
   ]
  },
  {
   "cell_type": "code",
   "execution_count": null,
   "metadata": {
    "dotnet_interactive": {
     "language": "csharp"
    },
    "vscode": {
     "languageId": "dotnet-interactive.csharp"
    }
   },
   "outputs": [
    {
     "name": "stdout",
     "output_type": "stream",
     "text": [
      "F-150\n",
      "Explorer\n",
      "Fusion\n",
      "==========================\n",
      "Mustang\n",
      "F-150\n",
      "Fusion\n",
      "Corvett\n",
      "Camaro\n",
      "Silvrado\n",
      "Corrola\n",
      "Camry\n",
      "Rava4\n",
      "==========================\n",
      "Mustang \n",
      "F-150 \n",
      "Fusion \n",
      "Corvett \n",
      "Camaro \n",
      "Silvrado \n",
      "Corrola \n",
      "Camry \n",
      "Rava4 \n"
     ]
    }
   ],
   "source": [
    "String []ford ={\"Mustang\",\"F-150\",\"Explorer\"};\n",
    "String []chevey ={\"Corvett\",\"Camaro\",\"Silvrado\"};\n",
    "String []Toyota ={\"Corrola\",\"Camry\",\"Rava4\"};\n",
    "\n",
    "String [,] parkingLot ={{\"Mustang\",\"F-150\",\"Explorer\"},\n",
    "                        {\"Corvett\",\"Camaro\",\"Silvrado\"},\n",
    "                        {\"Corrola\",\"Camry\",\"Rava4\"}};\n",
    "// To Access the array, use index for row and index for column\n",
    "\n",
    "Console.WriteLine(parkingLot[0,1]); \n",
    "Console.WriteLine(parkingLot[0,2]); \n",
    "\n",
    "parkingLot[0,2]=\"Fusion\";\n",
    "Console.WriteLine(parkingLot[0,2]); \n",
    "Console.WriteLine(\"==========================\");\n",
    "// now loop through the array\n",
    "\n",
    "foreach(String car in parkingLot){\n",
    "    Console.WriteLine(car);\n",
    "}\n",
    "\n",
    "Console.WriteLine(\"==========================\");\n",
    "// Nested loop to have a grid view\n",
    "\n",
    "for(int i=0; i<parkingLot.GetLength(0);i++){\n",
    "\n",
    "    for(int j=0; j< parkingLot.GetLength(1);j++)\n",
    "    \n",
    "    {\n",
    "        Console.WriteLine(parkingLot[i, j]+\" \");\n",
    "\n",
    "    }\n",
    "\n",
    "}\n"
   ]
  },
  {
   "cell_type": "code",
   "execution_count": null,
   "metadata": {
    "dotnet_interactive": {
     "language": "csharp"
    },
    "vscode": {
     "languageId": "dotnet-interactive.csharp"
    }
   },
   "outputs": [
    {
     "ename": "Error",
     "evalue": "System.NullReferenceException: Object reference not set to an instance of an object.\n   at Submission#37.<<Initialize>>d__0.MoveNext()\n--- End of stack trace from previous location ---\n   at Microsoft.CodeAnalysis.Scripting.ScriptExecutionState.RunSubmissionsAsync[TResult](ImmutableArray`1 precedingExecutors, Func`2 currentExecutor, StrongBox`1 exceptionHolderOpt, Func`2 catchExceptionOpt, CancellationToken cancellationToken)",
     "output_type": "error",
     "traceback": [
      "System.NullReferenceException: Object reference not set to an instance of an object.\n",
      "   at Submission#37.<<Initialize>>d__0.MoveNext()\n",
      "--- End of stack trace from previous location ---\n",
      "   at Microsoft.CodeAnalysis.Scripting.ScriptExecutionState.RunSubmissionsAsync[TResult](ImmutableArray`1 precedingExecutors, Func`2 currentExecutor, StrongBox`1 exceptionHolderOpt, Func`2 catchExceptionOpt, CancellationToken cancellationToken)"
     ]
    }
   ],
   "source": [
    "string [][]emp = new string [5][];\n",
    "emp[0]=new string[2];\n",
    "emp[1]=new string[2];\n",
    "emp[2]=new string[2];\n",
    "emp[3]=new string[2];\n",
    "emp[3]=new string[2];\n",
    "\n",
    "emp[0][0]= \"1\"; emp [0][1] =\"Shahd\";\n",
    "emp[0][0]= \"2\"; emp [1][1] =\"Nasr\";\n",
    "emp[0][0]= \"3\"; emp [2][1] =\"Mona\";\n",
    "emp[0][0]= \"4\"; emp [3][1] =\"Malak\";\n",
    "emp[0][0]= \"5\"; emp [4][1] =\"Omar\";\n",
    "\n",
    "Console.WriteLine(\"\")"
   ]
  },
  {
   "cell_type": "markdown",
   "metadata": {},
   "source": [
    "# Using foreach with arrays"
   ]
  },
  {
   "cell_type": "code",
   "execution_count": null,
   "metadata": {
    "dotnet_interactive": {
     "language": "csharp"
    },
    "vscode": {
     "languageId": "dotnet-interactive.csharp"
    }
   },
   "outputs": [
    {
     "name": "stdout",
     "output_type": "stream",
     "text": [
      "4 5 6 1 2 3 -2 -1 0 "
     ]
    }
   ],
   "source": [
    "int[] numbers = { 4, 5, 6, 1, 2, 3, -2, -1, 0 };\n",
    "foreach (int i in numbers)\n",
    "{\n",
    "    System.Console.Write(\"{0} \", i);\n",
    "}\n",
    "// Output: 4 5 6 1 2 3 -2 -1 0"
   ]
  },
  {
   "cell_type": "code",
   "execution_count": null,
   "metadata": {
    "dotnet_interactive": {
     "language": "csharp"
    },
    "vscode": {
     "languageId": "dotnet-interactive.csharp"
    }
   },
   "outputs": [
    {
     "name": "stdout",
     "output_type": "stream",
     "text": [
      "9 99 3 33 5 55 "
     ]
    }
   ],
   "source": [
    "int[,] numbers2D = new int[3, 2] { { 9, 99 }, { 3, 33 }, { 5, 55 } };\n",
    "// Or use the short form:\n",
    "// int[,] numbers2D = { { 9, 99 }, { 3, 33 }, { 5, 55 } };\n",
    "\n",
    "foreach (int i in numbers2D)\n",
    "{\n",
    "    System.Console.Write(\"{0} \", i);\n",
    "}\n",
    "// Output: 9 99 3 33 5 55"
   ]
  },
  {
   "cell_type": "markdown",
   "metadata": {},
   "source": [
    "For multi-dimensional arrays, elements are traversed such that the indices of the rightmost dimension are increased first, then the next left dimension, and so on to the left:"
   ]
  },
  {
   "cell_type": "code",
   "execution_count": null,
   "metadata": {
    "dotnet_interactive": {
     "language": "csharp"
    },
    "vscode": {
     "languageId": "dotnet-interactive.csharp"
    }
   },
   "outputs": [
    {
     "name": "stdout",
     "output_type": "stream",
     "text": [
      "9 99 3 33 5 55 "
     ]
    }
   ],
   "source": [
    "int[,] numbers2D = new int[3, 2] { { 9, 99 }, { 3, 33 }, { 5, 55 } };\n",
    "// Or use the short form:\n",
    "// int[,] numbers2D = { { 9, 99 }, { 3, 33 }, { 5, 55 } };\n",
    "\n",
    "foreach (int i in numbers2D)\n",
    "{\n",
    "    System.Console.Write(\"{0} \", i);\n",
    "}\n",
    "// Output: 9 99 3 33 5 55"
   ]
  },
  {
   "cell_type": "markdown",
   "metadata": {},
   "source": [
    "However, with multidimensional arrays, using a nested for loop gives you more control over the order in which to process the array elements."
   ]
  },
  {
   "cell_type": "markdown",
   "metadata": {},
   "source": [
    "# For Loop"
   ]
  },
  {
   "cell_type": "markdown",
   "metadata": {},
   "source": [
    "The for statement\n",
    "\n",
    "The for statement executes a statement or a block of statements while a specified Boolean expression evaluates to true. The following example shows the for statement that executes its body while an integer counter is less than three:"
   ]
  },
  {
   "cell_type": "code",
   "execution_count": null,
   "metadata": {
    "dotnet_interactive": {
     "language": "csharp"
    },
    "vscode": {
     "languageId": "dotnet-interactive.csharp"
    }
   },
   "outputs": [
    {
     "name": "stdout",
     "output_type": "stream",
     "text": [
      "012"
     ]
    }
   ],
   "source": [
    "for (int i = 0; i < 3; i++)\n",
    "{\n",
    "    Console.Write(i);\n",
    "}\n",
    "// Output:\n",
    "// 012"
   ]
  },
  {
   "cell_type": "markdown",
   "metadata": {},
   "source": [
    "The preceding example shows the elements of the for statement:\n",
    "\n",
    "    The initializer section that is executed only once, before entering the loop. Typically, you declare and initialize a local loop variable in that section. The declared variable can't be accessed from outside the for statement.\n",
    "\n",
    "    The initializer section in the preceding example declares and initializes an integer counter variable:"
   ]
  },
  {
   "cell_type": "code",
   "execution_count": null,
   "metadata": {
    "dotnet_interactive": {
     "language": "csharp"
    },
    "vscode": {
     "languageId": "dotnet-interactive.csharp"
    }
   },
   "outputs": [],
   "source": [
    "int i = 0;"
   ]
  },
  {
   "cell_type": "markdown",
   "metadata": {},
   "source": [
    "The condition section that determines if the next iteration in the loop should be executed. If it evaluates to true or is not present, the next iteration is executed; otherwise, the loop is exited. The condition section must be a Boolean expression.\n",
    "\n",
    "The condition section in the preceding example checks if a counter value is less than thre"
   ]
  },
  {
   "cell_type": "code",
   "execution_count": null,
   "metadata": {
    "dotnet_interactive": {
     "language": "csharp"
    },
    "vscode": {
     "languageId": "dotnet-interactive.csharp"
    }
   },
   "outputs": [
    {
     "data": {
      "text/html": [
       "<div class=\"dni-plaintext\">True</div>"
      ]
     },
     "metadata": {},
     "output_type": "display_data"
    }
   ],
   "source": [
    "i < 3"
   ]
  },
  {
   "cell_type": "code",
   "execution_count": null,
   "metadata": {
    "dotnet_interactive": {
     "language": "csharp"
    },
    "vscode": {
     "languageId": "dotnet-interactive.csharp"
    }
   },
   "outputs": [
    {
     "name": "stdout",
     "output_type": "stream",
     "text": [
      "Start: i=0, j=3\n",
      "Step: i=1, j=2\n",
      "Step: i=2, j=1\n"
     ]
    }
   ],
   "source": [
    "int i;\n",
    "int j = 3;\n",
    "for (i = 0, Console.WriteLine($\"Start: i={i}, j={j}\"); i < j; i++, j--, Console.WriteLine($\"Step: i={i}, j={j}\"))\n",
    "{\n",
    "    //...\n",
    "}\n",
    "// Output:\n",
    "// Start: i=0, j=3\n",
    "// Step: i=1, j=2\n",
    "// Step: i=2, j=1"
   ]
  },
  {
   "cell_type": "markdown",
   "metadata": {},
   "source": []
  },
  {
   "cell_type": "markdown",
   "metadata": {},
   "source": [
    "# Conversions"
   ]
  },
  {
   "cell_type": "markdown",
   "metadata": {},
   "source": [
    "## Implicit Conversion"
   ]
  },
  {
   "cell_type": "code",
   "execution_count": null,
   "metadata": {
    "dotnet_interactive": {
     "language": "csharp"
    },
    "vscode": {
     "languageId": "dotnet-interactive.csharp"
    }
   },
   "outputs": [
    {
     "name": "stdout",
     "output_type": "stream",
     "text": [
      "Int32\n",
      "Int64\n"
     ]
    }
   ],
   "source": [
    "int num = 2147483647;\n",
    "long bigNum = num; // implicit conversion\n",
    "Console.WriteLine(num.GetType().Name);\n",
    "Console.WriteLine(bigNum.GetType().Name);\n"
   ]
  },
  {
   "cell_type": "markdown",
   "metadata": {},
   "source": [
    "## Explicit Conversion"
   ]
  },
  {
   "cell_type": "code",
   "execution_count": null,
   "metadata": {
    "dotnet_interactive": {
     "language": "csharp"
    },
    "vscode": {
     "languageId": "dotnet-interactive.csharp"
    }
   },
   "outputs": [
    {
     "name": "stdout",
     "output_type": "stream",
     "text": [
      "0\n",
      "Int32\n"
     ]
    }
   ],
   "source": [
    "double x= 1234.7;\n",
    "int a;\n",
    "// Cast Double yo int\n",
    "Console.WriteLine(a);\n",
    "Console.WriteLine(a.GetType().Name);"
   ]
  },
  {
   "cell_type": "code",
   "execution_count": null,
   "metadata": {
    "dotnet_interactive": {
     "language": "csharp"
    },
    "vscode": {
     "languageId": "dotnet-interactive.csharp"
    }
   },
   "outputs": [
    {
     "name": "stdout",
     "output_type": "stream",
     "text": [
      "1234\n",
      "Int32\n"
     ]
    }
   ],
   "source": [
    "double x= 1234.7;\n",
    "int a;\n",
    "// Cast Double yo int\n",
    "a=(int)x; \n",
    "// convert double  to int\n",
    "Console.WriteLine(a);\n",
    "Console.WriteLine(a.GetType().Name);"
   ]
  },
  {
   "cell_type": "markdown",
   "metadata": {},
   "source": [
    "## Casting Methodes"
   ]
  },
  {
   "cell_type": "code",
   "execution_count": null,
   "metadata": {
    "dotnet_interactive": {
     "language": "csharp"
    },
    "vscode": {
     "languageId": "dotnet-interactive.csharp"
    }
   },
   "outputs": [
    {
     "name": "stdout",
     "output_type": "stream",
     "text": [
      "n1:33; System.Int32\n",
      "n1:55; System.Int32\n",
      "n1:33; System.String\n",
      "n1:55; System.String\n",
      "n1:99; System.Int32\n",
      "v1:1/1/2021 12:00:00 AM; DateTime\n",
      "v2:77; Decimal\n",
      "v3:A; Char\n",
      "v4:True; Boolean\n",
      "v5:88; String\n"
     ]
    }
   ],
   "source": [
    "int n1=33;\n",
    "int n2 =55;\n",
    "\n",
    "string st1 = n1.ToString();\n",
    "string st2 = Convert.ToString(n2);\n",
    "string s3 =\"99\";\n",
    "int s4 = Convert.ToInt32(s3);\n",
    "\n",
    "Console.WriteLine(\"n1:{0}; {1}\", n1,n1.GetType());\n",
    "Console.WriteLine(\"n1:{0}; {1}\", n2,n1.GetType());\n",
    "Console.WriteLine(\"n1:{0}; {1}\", st1,st1.GetType());\n",
    "Console.WriteLine(\"n1:{0}; {1}\", st2,st2.GetType());\n",
    "Console.WriteLine(\"n1:{0}; {1}\", s4,s4.GetType());\n",
    "\n",
    "// Convert to different data types\n",
    "\n",
    "var v1 = Convert.ToDateTime(\"01/01/2021\");\n",
    "var v2 = Convert.ToDecimal(\"77\");\n",
    "var v3 = Convert.ToChar(\"A\");\n",
    "var v4 = Convert.ToBoolean(\"True\");\n",
    "var v5 = Convert.ToString(88);\n",
    "\n",
    "Console.WriteLine(\"v1:{0}; {1}\", v1,v1.GetType().Name);\n",
    "Console.WriteLine(\"v2:{0}; {1}\", v2,v2.GetType().Name);\n",
    "Console.WriteLine(\"v3:{0}; {1}\", v3,v3.GetType().Name);\n",
    "Console.WriteLine(\"v4:{0}; {1}\", v4,v4.GetType().Name);\n",
    "Console.WriteLine(\"v5:{0}; {1}\", v5,v5.GetType().Name);\n"
   ]
  },
  {
   "cell_type": "markdown",
   "metadata": {},
   "source": [
    "## ChangeType function"
   ]
  },
  {
   "cell_type": "code",
   "execution_count": null,
   "metadata": {
    "dotnet_interactive": {
     "language": "csharp"
    },
    "vscode": {
     "languageId": "dotnet-interactive.csharp"
    }
   },
   "outputs": [
    {
     "name": "stdout",
     "output_type": "stream",
     "text": [
      "Type of V before conversion: \n",
      "Int32\n",
      "Type of V After conversion: \n",
      "String\n"
     ]
    }
   ],
   "source": [
    "//  ChangeType function\n",
    "\n",
    "object v = 33;\n",
    "Console.WriteLine(\"Type of V before conversion: \");\n",
    "Console.WriteLine(v.GetType().Name);\n",
    "v= Convert.ChangeType(v, typeof(string));\n",
    "Console.WriteLine(\"Type of V After conversion: \");\n",
    "Console.WriteLine(v.GetType().Name);"
   ]
  },
  {
   "cell_type": "markdown",
   "metadata": {},
   "source": [
    "# Numbering Sysytem Conversion"
   ]
  },
  {
   "cell_type": "code",
   "execution_count": null,
   "metadata": {
    "dotnet_interactive": {
     "language": "csharp"
    },
    "vscode": {
     "languageId": "dotnet-interactive.csharp"
    }
   },
   "outputs": [
    {
     "name": "stdout",
     "output_type": "stream",
     "text": [
      "hexadecimal: FF\n",
      "Octal:377\n",
      "Octal:11111111\n",
      "Decimal from h:255\n",
      "Decimal from o:255\n",
      "Decimal from b:255\n"
     ]
    }
   ],
   "source": [
    "// check hassouna cs500 for better understanding\n",
    "var num_d =255; // decimal number\n",
    "var num_h = 0xff; // hexadecimal number\n",
    "var num_o = Convert.ToInt32(\"377\",8); // to int takes number in string format and numbering system (8 for octal) \n",
    "var num_b = 0b11111111; // convert binary to  ToInt32(\"111111111,2\")\n",
    "Console.WriteLine(\"hexadecimal: {0:X}\",num_d);\n",
    "Console.WriteLine(\"Octal:{0}\",Convert.ToString(num_d,8));\n",
    "Console.WriteLine(\"Octal:{0}\",Convert.ToString(num_d,2));\n",
    "Console.WriteLine(\"Decimal from h:{0:d}\",num_h);\n",
    "Console.WriteLine(\"Decimal from o:{0:d}\",num_o);\n",
    "Console.WriteLine(\"Decimal from b:{0:d}\",num_b);"
   ]
  },
  {
   "cell_type": "markdown",
   "metadata": {},
   "source": [
    "# Overflow checked\n",
    "will not run the code if data type overflow, unchecked will run the code"
   ]
  },
  {
   "cell_type": "code",
   "execution_count": null,
   "metadata": {
    "dotnet_interactive": {
     "language": "csharp"
    },
    "vscode": {
     "languageId": "dotnet-interactive.csharp"
    }
   },
   "outputs": [
    {
     "ename": "Error",
     "evalue": "System.OverflowException: Arithmetic operation resulted in an overflow.\n   at Submission#51.<<Initialize>>d__0.MoveNext()\n--- End of stack trace from previous location ---\n   at Microsoft.CodeAnalysis.Scripting.ScriptExecutionState.RunSubmissionsAsync[TResult](ImmutableArray`1 precedingExecutors, Func`2 currentExecutor, StrongBox`1 exceptionHolderOpt, Func`2 catchExceptionOpt, CancellationToken cancellationToken)",
     "output_type": "error",
     "traceback": [
      "System.OverflowException: Arithmetic operation resulted in an overflow.\n",
      "   at Submission#51.<<Initialize>>d__0.MoveNext()\n",
      "--- End of stack trace from previous location ---\n",
      "   at Microsoft.CodeAnalysis.Scripting.ScriptExecutionState.RunSubmissionsAsync[TResult](ImmutableArray`1 precedingExecutors, Func`2 currentExecutor, StrongBox`1 exceptionHolderOpt, Func`2 catchExceptionOpt, CancellationToken cancellationToken)"
     ]
    }
   ],
   "source": [
    "checked{\n",
    "\n",
    "    long num1=21474783648l;\n",
    "    int num2 = (int)num1;\n",
    "    Console.WriteLine(num2);\n",
    "}"
   ]
  },
  {
   "cell_type": "code",
   "execution_count": null,
   "metadata": {
    "dotnet_interactive": {
     "language": "csharp"
    },
    "vscode": {
     "languageId": "dotnet-interactive.csharp"
    }
   },
   "outputs": [
    {
     "name": "stdout",
     "output_type": "stream",
     "text": [
      "-52832\n"
     ]
    }
   ],
   "source": [
    "unchecked{\n",
    "\n",
    "    long num1=21474783648l;\n",
    "    int num2 = (int)num1;\n",
    "    Console.WriteLine(num2);\n",
    "}"
   ]
  },
  {
   "cell_type": "markdown",
   "metadata": {},
   "source": [
    "# Assignment operators"
   ]
  },
  {
   "cell_type": "code",
   "execution_count": null,
   "metadata": {
    "dotnet_interactive": {
     "language": "csharp"
    },
    "vscode": {
     "languageId": "dotnet-interactive.csharp"
    }
   },
   "outputs": [
    {
     "name": "stdout",
     "output_type": "stream",
     "text": [
      "5\n",
      "11\n",
      "7\n",
      "14\n",
      "4.6666666666666666666666666667\n",
      "4.6666666666666666666666666667\n"
     ]
    }
   ],
   "source": [
    "decimal num =5; Console.WriteLine(num);\n",
    "num +=6; Console.WriteLine(num);\n",
    "num -=4; Console.WriteLine(num);\n",
    "num *=2; Console.WriteLine(num);\n",
    "num/=3 ; Console.WriteLine(num);\n",
    "num %=12; Console.WriteLine(num);\n"
   ]
  },
  {
   "cell_type": "code",
   "execution_count": null,
   "metadata": {
    "dotnet_interactive": {
     "language": "csharp"
    },
    "vscode": {
     "languageId": "dotnet-interactive.csharp"
    }
   },
   "outputs": [
    {
     "name": "stdout",
     "output_type": "stream",
     "text": [
      "Hello Ahmad\n"
     ]
    }
   ],
   "source": [
    "// same with strings\n",
    "string Mystring =\"\";\n",
    "Mystring +=\"Hello\";\n",
    "Mystring +=\" \";\n",
    "Mystring +=\"Ahmad\";\n",
    "Console.WriteLine(Mystring);"
   ]
  },
  {
   "cell_type": "markdown",
   "metadata": {},
   "source": [
    "# Enum"
   ]
  },
  {
   "cell_type": "code",
   "execution_count": null,
   "metadata": {
    "dotnet_interactive": {
     "language": "csharp"
    },
    "vscode": {
     "languageId": "dotnet-interactive.csharp"
    }
   },
   "outputs": [],
   "source": [
    "// enumrable.range can create a range and converti to array\n",
    "var nums = Enumerable.Range(1,6).ToArray();\n",
    "Console.WriteLine(nums.Average());\n",
    "Console.WriteLine(nums);\n",
    "Console.WriteLine(nums[0]);\n",
    "Console.WriteLine(nums[1]);\n",
    "Console.WriteLine(nums[2]);\n",
    "Console.WriteLine(nums[3]);\n",
    "Console.WriteLine(nums[4]);\n",
    "Console.WriteLine(nums[5]);\n",
    "// Console.WriteLine(nums[6]); out or range\n",
    "\n",
    "// Console.WriteLine(\"{0},\", (char)nums[0]);\n",
    "// Console.WriteLine(\"{0},\", (char)nums[1]);\n",
    "// Console.WriteLine(\"{0},\", (char)nums[2]);\n",
    "// Console.WriteLine(\"{0},\", (char)nums[3]);\n",
    "// Console.WriteLine(\"{0},\", (char)nums[4]);\n",
    "// Console.WriteLine(\"{0},\", (char)nums[5]);"
   ]
  },
  {
   "cell_type": "markdown",
   "metadata": {},
   "source": [
    "# User input"
   ]
  },
  {
   "cell_type": "code",
   "execution_count": null,
   "metadata": {
    "dotnet_interactive": {
     "language": "csharp"
    },
    "vscode": {
     "languageId": "dotnet-interactive.csharp"
    }
   },
   "outputs": [],
   "source": [
    "Console.WriteLine(\"what is your name ? \");\n",
    "string userName = Console.ReadLine();\n",
    "Console.WriteLine($\" your name is {userName}\");\n",
    "Console.WriteLine(userName.GetType().Name);"
   ]
  },
  {
   "cell_type": "markdown",
   "metadata": {},
   "source": [
    "# for loop\n",
    "Print all Eng Letters"
   ]
  },
  {
   "cell_type": "code",
   "execution_count": null,
   "metadata": {
    "dotnet_interactive": {
     "language": "csharp"
    },
    "vscode": {
     "languageId": "dotnet-interactive.csharp"
    }
   },
   "outputs": [],
   "source": [
    "\n",
    "for(char c='a'; c <= 'z'; c++)\n",
    "{\n",
    "    Console.WriteLine(c);\n",
    "    Console.WriteLine((int)c);\n",
    "}\n",
    "\n",
    "\n",
    "for(char c='a'; c <= 'z'; c++)\n",
    "{\n",
    "   \n",
    "    Console.WriteLine((int)c);\n",
    "}"
   ]
  },
  {
   "cell_type": "code",
   "execution_count": null,
   "metadata": {
    "dotnet_interactive": {
     "language": "csharp"
    },
    "vscode": {
     "languageId": "dotnet-interactive.csharp"
    }
   },
   "outputs": [
    {
     "name": "stdout",
     "output_type": "stream",
     "text": [
      "1\n",
      "2\n",
      "3\n",
      "4\n",
      "5\n",
      "6\n",
      "7\n",
      "8\n",
      "9\n",
      "10\n"
     ]
    }
   ],
   "source": [
    "for(int x= 1;x<=10; x++){\n",
    "\n",
    "    Console.WriteLine(x);\n",
    "}\n",
    "    "
   ]
  },
  {
   "cell_type": "code",
   "execution_count": null,
   "metadata": {
    "dotnet_interactive": {
     "language": "csharp"
    },
    "vscode": {
     "languageId": "dotnet-interactive.csharp"
    }
   },
   "outputs": [
    {
     "name": "stdout",
     "output_type": "stream",
     "text": [
      " X is 1 and y is 10\n",
      " X is 2 and y is 9\n",
      " X is 3 and y is 8\n",
      " X is 4 and y is 7\n",
      " X is 5 and y is 6\n",
      " X is 6 and y is 5\n",
      " X is 7 and y is 4\n",
      " X is 8 and y is 3\n",
      " X is 9 and y is 2\n",
      " X is 10 and y is 1\n"
     ]
    }
   ],
   "source": [
    "for(int x= 1,y=10; x<=10; x++,y--){\n",
    "\n",
    "    Console.WriteLine($\" X is {x} and y is {y}\");\n",
    "}\n",
    "    "
   ]
  },
  {
   "cell_type": "markdown",
   "metadata": {},
   "source": [
    "# StringBuilder Class"
   ]
  },
  {
   "cell_type": "markdown",
   "metadata": {},
   "source": [
    "https://docs.microsoft.com/en-us/dotnet/api/system.text.stringbuilder?view=net-6.0#Instantiating"
   ]
  },
  {
   "cell_type": "markdown",
   "metadata": {},
   "source": [
    "The following example shows how to call many of the methods defined by the StringBuilder class."
   ]
  },
  {
   "cell_type": "code",
   "execution_count": null,
   "metadata": {
    "dotnet_interactive": {
     "language": "csharp"
    },
    "vscode": {
     "languageId": "dotnet-interactive.csharp"
    }
   },
   "outputs": [],
   "source": [
    "using System;\n",
    "using System.Text;\n",
    "\n",
    "public sealed class App\n",
    "{\n",
    "    static void Main()\n",
    "    {\n",
    "        // Create a StringBuilder that expects to hold 50 characters.\n",
    "        // Initialize the StringBuilder with \"ABC\".\n",
    "        StringBuilder sb = new StringBuilder(\"ABC\", 50);\n",
    "\n",
    "        // Append three characters (D, E, and F) to the end of the StringBuilder.\n",
    "        sb.Append(new char[] { 'D', 'E', 'F' });\n",
    "\n",
    "        // Append a format string to the end of the StringBuilder.\n",
    "        sb.AppendFormat(\"GHI{0}{1}\", 'J', 'k');\n",
    "\n",
    "        // Display the number of characters in the StringBuilder and its string.\n",
    "        Console.WriteLine(\"{0} chars: {1}\", sb.Length, sb.ToString());\n",
    "\n",
    "        // Insert a string at the beginning of the StringBuilder.\n",
    "        sb.Insert(0, \"Alphabet: \");\n",
    "\n",
    "        // Replace all lowercase k's with uppercase K's.\n",
    "        sb.Replace('k', 'K');\n",
    "\n",
    "        // Display the number of characters in the StringBuilder and its string.\n",
    "        Console.WriteLine(\"{0} chars: {1}\", sb.Length, sb.ToString());\n",
    "    }\n",
    "}\n",
    "\n",
    "// This code produces the following output.\n",
    "//\n",
    "// 11 chars: ABCDEFGHIJk\n",
    "// 21 chars: Alphabet: ABCDEFGHIJK"
   ]
  },
  {
   "cell_type": "markdown",
   "metadata": {},
   "source": [
    "The following example uses three of these constructor overloads to instantiate StringBuilder objects."
   ]
  },
  {
   "cell_type": "code",
   "execution_count": null,
   "metadata": {
    "dotnet_interactive": {
     "language": "csharp"
    },
    "vscode": {
     "languageId": "dotnet-interactive.csharp"
    }
   },
   "outputs": [],
   "source": [
    "using System;\n",
    "using System.Text;\n",
    "\n",
    "public class Example\n",
    "{\n",
    "   public static void Main()\n",
    "   {\n",
    "      string value = \"An ordinary string\";\n",
    "      int index = value.IndexOf(\"An \") + 3;\n",
    "      int capacity = 0xFFFF;\n",
    "      \n",
    "      // Instantiate a StringBuilder from a string.\n",
    "      StringBuilder sb1 = new StringBuilder(value);\n",
    "      ShowSBInfo(sb1); \n",
    "      \n",
    "      // Instantiate a StringBuilder from string and define a capacity.  \n",
    "      StringBuilder sb2 = new StringBuilder(value, capacity);   \n",
    "      ShowSBInfo(sb2); \n",
    "      \n",
    "      // Instantiate a StringBuilder from substring and define a capacity.  \n",
    "      StringBuilder sb3 = new StringBuilder(value, index, \n",
    "                                            value.Length - index, \n",
    "                                            capacity );\n",
    "      ShowSBInfo(sb3); \n",
    "   }\n",
    "\n",
    "   public static void ShowSBInfo(StringBuilder sb)\n",
    "   {\n",
    "      Console.WriteLine(\"\\nValue: {0}\", sb.ToString());\n",
    "      foreach (var prop in sb.GetType().GetProperties()) {\n",
    "         if (prop.GetIndexParameters().Length == 0)\n",
    "            Console.Write(\"{0}: {1:N0}    \", prop.Name, prop.GetValue(sb));\n",
    "      }\n",
    "      Console.WriteLine();\n",
    "   }\n",
    "}\n",
    "// The example displays the following output:\n",
    "//    Value: An ordinary string\n",
    "//    Capacity: 18    MaxCapacity: 2,147,483,647    Length: 18\n",
    "//    \n",
    "//    Value: An ordinary string\n",
    "//    Capacity: 65,535    MaxCapacity: 2,147,483,647    Length: 18\n",
    "//    \n",
    "//    Value: ordinary string\n",
    "//    Capacity: 65,535    MaxCapacity: 2,147,483,647    Length: 15"
   ]
  },
  {
   "cell_type": "code",
   "execution_count": null,
   "metadata": {
    "dotnet_interactive": {
     "language": "csharp"
    },
    "vscode": {
     "languageId": "dotnet-interactive.csharp"
    }
   },
   "outputs": [],
   "source": [
    "using System;\n",
    "using System.Reflection;\n",
    "using System.Text;\n",
    "\n",
    "public class Example\n",
    "{\n",
    "   public static void Main()\n",
    "   {\n",
    "      StringBuilder sb = new StringBuilder();\n",
    "      ShowSBInfo(sb);\n",
    "      sb.Append(\"This is a sentence.\");\n",
    "      ShowSBInfo(sb);\n",
    "      for (int ctr = 0; ctr <= 10; ctr++) {\n",
    "         sb.Append(\"This is an additional sentence.\");\n",
    "         ShowSBInfo(sb);\n",
    "      }   \n",
    "   }\n",
    "   \n",
    "   private static void ShowSBInfo(StringBuilder sb)\n",
    "   {\n",
    "      foreach (var prop in sb.GetType().GetProperties()) {\n",
    "         if (prop.GetIndexParameters().Length == 0)\n",
    "            Console.Write(\"{0}: {1:N0}    \", prop.Name, prop.GetValue(sb));\n",
    "      }\n",
    "      Console.WriteLine();\n",
    "   }\n",
    "}\n",
    "// The example displays the following output:\n",
    "//    Capacity: 16    MaxCapacity: 2,147,483,647    Length: 0\n",
    "//    Capacity: 32    MaxCapacity: 2,147,483,647    Length: 19\n",
    "//    Capacity: 64    MaxCapacity: 2,147,483,647    Length: 50\n",
    "//    Capacity: 128    MaxCapacity: 2,147,483,647    Length: 81\n",
    "//    Capacity: 128    MaxCapacity: 2,147,483,647    Length: 112\n",
    "//    Capacity: 256    MaxCapacity: 2,147,483,647    Length: 143\n",
    "//    Capacity: 256    MaxCapacity: 2,147,483,647    Length: 174\n",
    "//    Capacity: 256    MaxCapacity: 2,147,483,647    Length: 205\n",
    "//    Capacity: 256    MaxCapacity: 2,147,483,647    Length: 236\n",
    "//    Capacity: 512    MaxCapacity: 2,147,483,647    Length: 267\n",
    "//    Capacity: 512    MaxCapacity: 2,147,483,647    Length: 298\n",
    "//    Capacity: 512    MaxCapacity: 2,147,483,647    Length: 329\n",
    "//    Capacity: 512    MaxCapacity: 2,147,483,647    Length: 360"
   ]
  },
  {
   "cell_type": "code",
   "execution_count": null,
   "metadata": {
    "dotnet_interactive": {
     "language": "csharp"
    },
    "vscode": {
     "languageId": "dotnet-interactive.csharp"
    }
   },
   "outputs": [],
   "source": [
    "using System;\n",
    "using System.Text;\n",
    "\n",
    "public class Example\n",
    "{\n",
    "   public static void Main()\n",
    "   {\n",
    "      string value = \"An ordinary string\";\n",
    "      int index = value.IndexOf(\"An \") + 3;\n",
    "      int capacity = 0xFFFF;\n",
    "      \n",
    "      // Instantiate a StringBuilder from a string.\n",
    "      StringBuilder sb1 = new StringBuilder(value);\n",
    "      ShowSBInfo(sb1); \n",
    "      \n",
    "      // Instantiate a StringBuilder from string and define a capacity.  \n",
    "      StringBuilder sb2 = new StringBuilder(value, capacity);   \n",
    "      ShowSBInfo(sb2); \n",
    "      \n",
    "      // Instantiate a StringBuilder from substring and define a capacity.  \n",
    "      StringBuilder sb3 = new StringBuilder(value, index, \n",
    "                                            value.Length - index, \n",
    "                                            capacity );\n",
    "      ShowSBInfo(sb3); \n",
    "   }\n",
    "\n",
    "   public static void ShowSBInfo(StringBuilder sb)\n",
    "   {\n",
    "      Console.WriteLine(\"\\nValue: {0}\", sb.ToString());\n",
    "      foreach (var prop in sb.GetType().GetProperties()) {\n",
    "         if (prop.GetIndexParameters().Length == 0)\n",
    "            Console.Write(\"{0}: {1:N0}    \", prop.Name, prop.GetValue(sb));\n",
    "      }\n",
    "      Console.WriteLine();\n",
    "   }\n",
    "}\n",
    "// The example displays the following output:\n",
    "//    Value: An ordinary string\n",
    "//    Capacity: 18    MaxCapacity: 2,147,483,647    Length: 18\n",
    "//    \n",
    "//    Value: An ordinary string\n",
    "//    Capacity: 65,535    MaxCapacity: 2,147,483,647    Length: 18\n",
    "//    \n",
    "//    Value: ordinary string\n",
    "//    Capacity: 65,535    MaxCapacity: 2,147,483,647    Length: 15"
   ]
  },
  {
   "cell_type": "markdown",
   "metadata": {},
   "source": [
    "## Calling StringBuilder methods"
   ]
  },
  {
   "cell_type": "markdown",
   "metadata": {},
   "source": [
    "Most of the methods that modify the string in a StringBuilder instance return a reference to that same instance. This enables you to call StringBuilder methods in two ways:\n",
    "\n",
    "    You can make individual method calls and ignore the return value, as the following example does."
   ]
  },
  {
   "cell_type": "code",
   "execution_count": null,
   "metadata": {
    "dotnet_interactive": {
     "language": "csharp"
    },
    "vscode": {
     "languageId": "dotnet-interactive.csharp"
    }
   },
   "outputs": [],
   "source": [
    "using System;\n",
    "using System.Text;\n",
    "\n",
    "public class Example\n",
    "{\n",
    "   public static void Main()\n",
    "   {\n",
    "      StringBuilder sb = new StringBuilder();\n",
    "      sb.Append(\"This is the beginning of a sentence, \");\n",
    "      sb.Replace(\"the beginning of \", \"\");\n",
    "      sb.Insert(sb.ToString().IndexOf(\"a \") + 2, \"complete \");\n",
    "      sb.Replace(\",\", \".\");\n",
    "      Console.WriteLine(sb.ToString());\n",
    "   }\n",
    "}\n",
    "// The example displays the following output:\n",
    "//        This is a complete sentence."
   ]
  },
  {
   "cell_type": "markdown",
   "metadata": {},
   "source": [
    "You can make a series of method calls in a single statement. This can be convenient if you want to write a single statement that chains successive operations. The following example consolidates three method calls from the previous example into a single line of code."
   ]
  },
  {
   "cell_type": "code",
   "execution_count": null,
   "metadata": {
    "dotnet_interactive": {
     "language": "csharp"
    },
    "vscode": {
     "languageId": "dotnet-interactive.csharp"
    }
   },
   "outputs": [],
   "source": [
    "using System;\n",
    "using System.Text;\n",
    "\n",
    "public class Example\n",
    "{\n",
    "   public static void Main()\n",
    "   {\n",
    "      StringBuilder sb = new StringBuilder(\"This is the beginning of a sentence, \");\n",
    "      sb.Replace(\"the beginning of \", \"\").Insert(sb.ToString().IndexOf(\"a \") + 2, \n",
    "                                                 \"complete \").Replace(\",\", \".\");\n",
    "      Console.WriteLine(sb.ToString());\n",
    "   }\n",
    "}\n",
    "// The example displays the following output:\n",
    "//        This is a complete sentence."
   ]
  },
  {
   "cell_type": "markdown",
   "metadata": {},
   "source": [
    "Performing StringBuilder operations\n",
    "\n",
    "You can use the methods of the StringBuilder class to iterate, add, delete, or modify characters in a StringBuilder object.\n",
    "\n",
    "Iterating StringBuilder characters\n",
    "\n",
    "You can access the characters in a StringBuilder object by using the StringBuilder.Chars[] property. In C#, Chars[] is an indexer; in Visual Basic, it is the default property of the StringBuilder class. This enables you to set or retrieve individual characters by using their index only, without explicitly referencing the Chars[] property. Characters in a StringBuilder object begin at index 0 (zero) and continue to index Length - 1.\n",
    "\n",
    "The following example illustrates the Chars[] property. It appends ten random numbers to a StringBuilder object, and then iterates each character. If the character's Unicode category is UnicodeCategory.DecimalDigitNumber, it decreases the number by 1 (or changes the number to 9 if its value is 0). The example displays the contents of the StringBuilder object both before and after the values of individual characters were changed."
   ]
  },
  {
   "cell_type": "code",
   "execution_count": null,
   "metadata": {
    "dotnet_interactive": {
     "language": "csharp"
    },
    "vscode": {
     "languageId": "dotnet-interactive.csharp"
    }
   },
   "outputs": [],
   "source": [
    "using System;\n",
    "using System.Globalization;\n",
    "using System.Text;\n",
    "\n",
    "public class Example\n",
    "{\n",
    "   public static void Main()\n",
    "   {\n",
    "      Random rnd = new Random();\n",
    "      StringBuilder sb = new StringBuilder();\n",
    "      \n",
    "      // Generate 10 random numbers and store them in a StringBuilder.\n",
    "      for (int ctr = 0; ctr <= 9; ctr++)\n",
    "         sb.Append(rnd.Next().ToString(\"N5\"));    \n",
    "\n",
    "      Console.WriteLine(\"The original string:\");\n",
    "      Console.WriteLine(sb.ToString());\n",
    "            \n",
    "      // Decrease each number by one.\n",
    "      for (int ctr = 0; ctr < sb.Length; ctr++) {\n",
    "         if (Char.GetUnicodeCategory(sb[ctr]) == UnicodeCategory.DecimalDigitNumber) {\n",
    "            int number = (int) Char.GetNumericValue(sb[ctr]);\n",
    "            number--;\n",
    "            if (number < 0) number = 9;\n",
    "         \n",
    "            sb[ctr] = number.ToString()[0];\n",
    "         }\n",
    "      }\n",
    "      Console.WriteLine(\"\\nThe new string:\");\n",
    "      Console.WriteLine(sb.ToString());\n",
    "   }\n",
    "}\n",
    "// The example displays the following output:\n",
    "//    The original string:\n",
    "//    1,457,531,530.00000940,522,609.000001,668,113,564.000001,998,992,883.000001,792,660,834.00\n",
    "//    000101,203,251.000002,051,183,075.000002,066,000,067.000001,643,701,043.000001,702,382,508\n",
    "//    .00000\n",
    "//    \n",
    "//    The new string:\n",
    "//    0,346,420,429.99999839,411,598.999990,557,002,453.999990,887,881,772.999990,681,559,723.99\n",
    "//    999090,192,140.999991,940,072,964.999991,955,999,956.999990,532,690,932.999990,691,271,497\n",
    "//    .99999"
   ]
  },
  {
   "cell_type": "markdown",
   "metadata": {},
   "source": [
    "Adding text to a StringBuilder object\n",
    "\n",
    "The StringBuilder class includes the following methods for expanding the contents of a StringBuilder object:\n",
    "\n",
    "    The Append method appends a string, a substring, a character array, a portion of a character array, a single character repeated multiple times, or the string representation of a primitive data type to a StringBuilder object.\n",
    "\n",
    "    The AppendLine method appends a line terminator or a string along with a line terminator to a StringBuilder object.\n",
    "\n",
    "    The AppendFormat method appends a composite format string to a StringBuilder object. The string representations of objects included in the result string can reflect the formatting conventions of the current system culture or a specified culture.\n",
    "\n",
    "    The Insert method inserts a string, a substring, multiple repetitions of a string, a character array, a portion of a character array, or the string representation of a primitive data type at a specified position in the StringBuilder object. The position is defined by a zero-based index.\n",
    "\n",
    "The following example uses the Append, AppendLine, AppendFormat, and Insert methods to expand the text of a StringBuilder object."
   ]
  },
  {
   "cell_type": "code",
   "execution_count": null,
   "metadata": {
    "dotnet_interactive": {
     "language": "csharp"
    },
    "vscode": {
     "languageId": "dotnet-interactive.csharp"
    }
   },
   "outputs": [],
   "source": [
    "using System;\n",
    "using System.Text;\n",
    "\n",
    "public class Example\n",
    "{\n",
    "   public static void Main()\n",
    "   {\n",
    "      // Create a StringBuilder object with no text.\n",
    "      StringBuilder sb = new StringBuilder();\n",
    "      // Append some text.\n",
    "      sb.Append('*', 10).Append(\" Adding Text to a StringBuilder Object \").Append('*', 10);\n",
    "      sb.AppendLine(\"\\n\");\n",
    "      sb.AppendLine(\"Some code points and their corresponding characters:\");\n",
    "      // Append some formatted text.\n",
    "      for (int ctr = 50; ctr <= 60; ctr++) {\n",
    "         sb.AppendFormat(\"{0,12:X4} {1,12}\", ctr, Convert.ToChar(ctr));\n",
    "         sb.AppendLine();\n",
    "      }\n",
    "      // Find the end of the introduction to the column.\n",
    "      int pos = sb.ToString().IndexOf(\"characters:\") + 11 + \n",
    "                Environment.NewLine.Length;\n",
    "      // Insert a column header.\n",
    "      sb.Insert(pos, String.Format(\"{2}{0,12:X4} {1,12}{2}\", \"Code Unit\", \n",
    "                                   \"Character\", \"\\n\"));      \n",
    "\n",
    "      // Convert the StringBuilder to a string and display it.      \n",
    "      Console.WriteLine(sb.ToString());      \n",
    "   }\n",
    "}\n",
    "// The example displays the following output:\n",
    "//    ********** Adding Text to a StringBuilder Object **********\n",
    "//    \n",
    "//    Some code points and their corresponding characters:\n",
    "//    \n",
    "//       Code Unit    Character\n",
    "//            0032            2\n",
    "//            0033            3\n",
    "//            0034            4\n",
    "//            0035            5\n",
    "//            0036            6\n",
    "//            0037            7\n",
    "//            0038            8\n",
    "//            0039            9\n",
    "//            003A            :\n",
    "//            003B            ;\n",
    "//            003C            <"
   ]
  },
  {
   "cell_type": "markdown",
   "metadata": {},
   "source": [
    "Deleting text from a StringBuilder object\n",
    "\n",
    "The StringBuilder class includes methods that can reduce the size of the current StringBuilder instance. The Clear method removes all characters and sets the Length property to zero. The Remove method deletes a specified number of characters starting at a particular index position. In addition, you can remove characters from the end of a StringBuilder object by setting its Length property to a value that is less than the length of the current instance.\n",
    "\n",
    "The following example removes some of the text from a StringBuilder object, displays its resulting capacity, maximum capacity, and length property values, and then calls the Clear method to remove all the characters from the StringBuilder object."
   ]
  },
  {
   "cell_type": "code",
   "execution_count": null,
   "metadata": {
    "dotnet_interactive": {
     "language": "csharp"
    },
    "vscode": {
     "languageId": "dotnet-interactive.csharp"
    }
   },
   "outputs": [],
   "source": [
    "using System;\n",
    "using System.Text;\n",
    "\n",
    "public class Example\n",
    "{\n",
    "   public static void Main()\n",
    "   {\n",
    "      StringBuilder sb = new StringBuilder(\"A StringBuilder object\");\n",
    "      ShowSBInfo(sb);\n",
    "      // Remove \"object\" from the text.\n",
    "      string textToRemove = \"object\";\n",
    "      int pos = sb.ToString().IndexOf(textToRemove);\n",
    "      if (pos >= 0) {\n",
    "         sb.Remove(pos, textToRemove.Length);\n",
    "         ShowSBInfo(sb);\n",
    "      }\n",
    "      // Clear the StringBuilder contents.\n",
    "      sb.Clear();\n",
    "      ShowSBInfo(sb);   \n",
    "   }\n",
    "\n",
    "   public static void ShowSBInfo(StringBuilder sb)\n",
    "   {\n",
    "      Console.WriteLine(\"\\nValue: {0}\", sb.ToString());\n",
    "      foreach (var prop in sb.GetType().GetProperties()) {\n",
    "         if (prop.GetIndexParameters().Length == 0)\n",
    "            Console.Write(\"{0}: {1:N0}    \", prop.Name, prop.GetValue(sb));\n",
    "      }\n",
    "      Console.WriteLine();\n",
    "   }\n",
    "}\n",
    "// The example displays the following output:\n",
    "//    Value: A StringBuilder object\n",
    "//    Capacity: 22    MaxCapacity: 2,147,483,647    Length: 22\n",
    "//    \n",
    "//    Value: A StringBuilder\n",
    "//    Capacity: 22    MaxCapacity: 2,147,483,647    Length: 16\n",
    "//    \n",
    "//    Value:\n",
    "//    Capacity: 22    MaxCapacity: 2,147,483,647    Length: 0"
   ]
  },
  {
   "cell_type": "markdown",
   "metadata": {},
   "source": [
    "Modifying the text in a StringBuilder object\n",
    "\n",
    "The StringBuilder.Replace method replaces all occurrences of a character or a string in the entire StringBuilder object or in a particular character range. The following example uses the Replace method to replace all exclamation points (!) with question marks (?) in the StringBuilder object."
   ]
  },
  {
   "cell_type": "code",
   "execution_count": null,
   "metadata": {
    "dotnet_interactive": {
     "language": "csharp"
    },
    "vscode": {
     "languageId": "dotnet-interactive.csharp"
    }
   },
   "outputs": [],
   "source": [
    "using System;\n",
    "using System.Text;\n",
    "\n",
    "public class Example\n",
    "{\n",
    "   public static void Main()\n",
    "   {\n",
    "      StringBuilder MyStringBuilder = new StringBuilder(\"Hello World!\");\n",
    "      MyStringBuilder.Replace('!', '?');\n",
    "      Console.WriteLine(MyStringBuilder);\n",
    "   }\n",
    "}\n",
    "// The example displays the following output:\n",
    "//       Hello World?"
   ]
  },
  {
   "cell_type": "markdown",
   "metadata": {},
   "source": [
    "Searching the text in a StringBuilder object\n",
    "\n",
    "The StringBuilder class does not include methods similar to the String.Contains, String.IndexOf, and String.StartsWith methods provided by the String class, which allow you to search the object for a particular character or a substring. Determining the presence or starting character position of a substring requires that you search a String value by using either a string search method or a regular expression method. There are four ways to implement such searches, as the following table shows."
   ]
  },
  {
   "cell_type": "code",
   "execution_count": null,
   "metadata": {
    "dotnet_interactive": {
     "language": "csharp"
    },
    "vscode": {
     "languageId": "dotnet-interactive.csharp"
    }
   },
   "outputs": [],
   "source": [
    "using System;\n",
    "using System.Text;\n",
    "\n",
    "public class Example\n",
    "{\n",
    "   public static void Main()\n",
    "   {\n",
    "      Random rnd = new Random();\n",
    "      string[] tempF = { \"47.6F\", \"51.3F\", \"49.5F\", \"62.3F\" };\n",
    "      string[] tempC = { \"21.2C\", \"16.1C\", \"23.5C\", \"22.9C\" };\n",
    "      string[][] temps = { tempF, tempC }; \n",
    "\n",
    "      StringBuilder sb = new StringBuilder();\n",
    "      var f = new StringBuilderFinder(sb, \"F\");\n",
    "      var baseDate = new DateTime(2013, 5, 1); \n",
    "      String[] temperatures = temps[rnd.Next(2)];\n",
    "      bool isFahrenheit = false;\n",
    "      foreach (var temperature in temperatures) {\n",
    "         if (isFahrenheit)\n",
    "            sb.AppendFormat(\"{0:d}: {1}\\n\", baseDate, temperature);\n",
    "         else\n",
    "            isFahrenheit = f.SearchAndAppend(String.Format(\"{0:d}: {1}\\n\", \n",
    "                                             baseDate, temperature));\n",
    "         baseDate = baseDate.AddDays(1);\n",
    "      }            \n",
    "      if (isFahrenheit) {\n",
    "         sb.Insert(0, \"Average Daily Temperature in Degrees Fahrenheit\");\n",
    "         sb.Insert(47, \"\\n\\n\");\n",
    "      }\n",
    "      else {\n",
    "         sb.Insert(0, \"Average Daily Temperature in Degrees Celsius\");\n",
    "         sb.Insert(44, \"\\n\\n\");\n",
    "      }   \n",
    "      Console.WriteLine(sb.ToString());\n",
    "   }\n",
    "}\n",
    "\n",
    "public class StringBuilderFinder\n",
    "{\n",
    "   private StringBuilder sb;\n",
    "   private String text;\n",
    "   \n",
    "   public StringBuilderFinder(StringBuilder sb, String textToFind)\n",
    "   {\n",
    "      this.sb = sb;\n",
    "      this.text = textToFind;\n",
    "   }\n",
    "   \n",
    "   public bool SearchAndAppend(String stringToSearch)\n",
    "   {\n",
    "      sb.Append(stringToSearch);\n",
    "      return stringToSearch.Contains(text);\n",
    "   }\n",
    "}\n",
    "// The example displays output similar to the following:\n",
    "//    Average Daily Temperature in Degrees Celsius\n",
    "//    \n",
    "//    5/1/2013: 21.2C\n",
    "//    5/2/2013: 16.1C\n",
    "//    5/3/2013: 23.5C\n",
    "//    5/4/2013: 22.9C"
   ]
  },
  {
   "cell_type": "markdown",
   "metadata": {},
   "source": [
    "Call the StringBuilder.ToString method to convert the StringBuilder object to a String object. You can search the string by using methods such as String.LastIndexOf or String.StartsWith, or you can use regular expressions and the Regex class to search for patterns. Because both StringBuilder and String objects use UTF-16 encoding to store characters, the index positions of characters, substrings, and regular expression matches are the same in both objects. This enables you to use StringBuilder methods to make changes at the same position at which that text is found in the String object.\n",
    "\n",
    "Note\n",
    "\n",
    "If you adopt this approach, you should work from the end of the StringBuilder object to its beginning so that you don't have to repeatedly convert the StringBuilder object to a string.\n",
    "\n",
    "The following example illustrates this approach. It stores four occurrences of each letter of the English alphabet in a StringBuilder object. It then converts the text to a String object and uses a regular expression to identify the starting position of each four-character sequence. Finally, it adds an underscore before each four-character sequence except for the first sequence, and converts the first character of the sequence to uppercase."
   ]
  },
  {
   "cell_type": "code",
   "execution_count": null,
   "metadata": {
    "dotnet_interactive": {
     "language": "csharp"
    },
    "vscode": {
     "languageId": "dotnet-interactive.csharp"
    }
   },
   "outputs": [],
   "source": [
    "using System;\n",
    "using System.Text;\n",
    "using System.Text.RegularExpressions;\n",
    "\n",
    "public class Example\n",
    "{\n",
    "   public static void Main()\n",
    "   {\n",
    "      // Create a StringBuilder object with 4 successive occurrences \n",
    "      // of each character in the English alphabet. \n",
    "      StringBuilder sb = new StringBuilder();\n",
    "      for (ushort ctr = (ushort)'a'; ctr <= (ushort) 'z'; ctr++)\n",
    "         sb.Append(Convert.ToChar(ctr), 4);\n",
    "      \n",
    "      // Create a parallel string object.\n",
    "      String sbString = sb.ToString();\n",
    "      // Determine where each new character sequence begins.\n",
    "      String pattern = @\"(\\w)\\1+\";\n",
    "      MatchCollection matches = Regex.Matches(sbString, pattern);\n",
    "\n",
    "      // Uppercase the first occurrence of the sequence, and separate it\n",
    "      // from the previous sequence by an underscore character.\n",
    "      for (int ctr = matches.Count - 1; ctr >= 0; ctr--) { \n",
    "         Match m = matches[ctr];\n",
    "         sb[m.Index] = Char.ToUpper(sb[m.Index]);\n",
    "         if (m.Index > 0) sb.Insert(m.Index, \"_\");\n",
    "      }\n",
    "      // Display the resulting string.\n",
    "      sbString = sb.ToString();\n",
    "      int line = 0;\n",
    "      do {\n",
    "         int nChars = line * 80 + 79 <= sbString.Length ? \n",
    "                             80 : sbString.Length - line * 80;\n",
    "         Console.WriteLine(sbString.Substring(line * 80, nChars));\n",
    "         line++;\n",
    "      } while (line * 80 < sbString.Length);\n",
    "   }\n",
    "}\n",
    "// The example displays the following output:\n",
    "//    Aaaa_Bbbb_Cccc_Dddd_Eeee_Ffff_Gggg_Hhhh_Iiii_Jjjj_Kkkk_Llll_Mmmm_Nnnn_Oooo_Pppp_\n",
    "//    Qqqq_Rrrr_Ssss_Tttt_Uuuu_Vvvv_Wwww_Xxxx_Yyyy_Zzzz"
   ]
  },
  {
   "cell_type": "markdown",
   "metadata": {},
   "source": [
    "Use the StringBuilder.Chars[] property to sequentially search a range of characters in a StringBuilder object. This approach may not be practical if the number of characters to be searched is large or the search logic is particularly complex. For the performance implications of character-by-character index-based access for very large, chunked StringBuilder objects, see the documentation for the StringBuilder.Chars[] property.\n",
    "\n",
    "The following example is identical in functionality to the previous example but differs in implementation. It uses the Chars[] property to detect when a character value has changed, inserts an underscore at that position, and converts the first character in the new sequence to uppercase."
   ]
  },
  {
   "cell_type": "code",
   "execution_count": null,
   "metadata": {
    "dotnet_interactive": {
     "language": "csharp"
    },
    "vscode": {
     "languageId": "dotnet-interactive.csharp"
    }
   },
   "outputs": [],
   "source": [
    "using System;\n",
    "using System.Text;\n",
    "\n",
    "public class Example\n",
    "{\n",
    "   public static void Main()\n",
    "   {\n",
    "      // Create a StringBuilder object with 4 successive occurrences \n",
    "      // of each character in the English alphabet. \n",
    "      StringBuilder sb = new StringBuilder();\n",
    "      for (ushort ctr = (ushort) 'a'; ctr <= (ushort) 'z'; ctr++)\n",
    "         sb.Append(Convert.ToChar(ctr), 4);\n",
    "\n",
    "      // Iterate the text to determine when a new character sequence occurs.\n",
    "      int position = 0;\n",
    "      Char current = '\\u0000';\n",
    "      do {\n",
    "         if (sb[position] != current) {\n",
    "            current = sb[position];\n",
    "            sb[position] = Char.ToUpper(sb[position]);\n",
    "            if (position > 0) \n",
    "               sb.Insert(position, \"_\");\n",
    "            position += 2;\n",
    "         }\n",
    "         else {\n",
    "            position++;\n",
    "         }      \n",
    "      } while (position <= sb.Length - 1);\n",
    "      // Display the resulting string.\n",
    "      String sbString = sb.ToString();\n",
    "      int line = 0;\n",
    "      do {\n",
    "         int nChars = line * 80 + 79 <= sbString.Length ? \n",
    "                             80 : sbString.Length - line * 80;\n",
    "         Console.WriteLine(sbString.Substring(line * 80, nChars));\n",
    "         line++;\n",
    "      } while (line * 80 < sbString.Length);\n",
    "   }\n",
    "}\n",
    "// The example displays the following output:\n",
    "//    Aaaa_Bbbb_Cccc_Dddd_Eeee_Ffff_Gggg_Hhhh_Iiii_Jjjj_Kkkk_Llll_Mmmm_Nnnn_Oooo_Pppp_\n",
    "//    Qqqq_Rrrr_Ssss_Tttt_Uuuu_Vvvv_Wwww_Xxxx_Yyyy_Zzzz"
   ]
  },
  {
   "cell_type": "markdown",
   "metadata": {},
   "source": [
    "Store all the unmodified text in the StringBuilder object, call the StringBuilder.ToString method to convert the StringBuilder object to a String object, and perform the modifications on the String object. You can use this approach if you have only a few modifications; otherwise, the cost of working with immutable strings may negate the performance benefits of using a StringBuilder object.\n",
    "\n",
    "The following example is identical in functionality to the previous two examples but differs in implementation. It creates a StringBuilder object, converts it to a String object, and then uses a regular expression to perform all remaining modifications on the string. The Regex.Replace(String, String, MatchEvaluator) method uses a lambda expression to perform the replacement on each match."
   ]
  },
  {
   "cell_type": "code",
   "execution_count": null,
   "metadata": {
    "dotnet_interactive": {
     "language": "csharp"
    },
    "vscode": {
     "languageId": "dotnet-interactive.csharp"
    }
   },
   "outputs": [],
   "source": [
    "using System;\n",
    "using System.Text;\n",
    "using System.Text.RegularExpressions;\n",
    "\n",
    "public class Example\n",
    "{\n",
    "   public static void Main()\n",
    "   {\n",
    "      // Create a StringBuilder object with 4 successive occurrences \n",
    "      // of each character in the English alphabet. \n",
    "      StringBuilder sb = new StringBuilder();\n",
    "      for (ushort ctr = (ushort)'a'; ctr <= (ushort) 'z'; ctr++)\n",
    "         sb.Append(Convert.ToChar(ctr), 4);\n",
    "     \n",
    "      // Convert it to a string.\n",
    "      String sbString = sb.ToString();\n",
    "\n",
    "      // Use a regex to uppercase the first occurrence of the sequence, \n",
    "      // and separate it from the previous sequence by an underscore.\n",
    "      string pattern = @\"(\\w)(\\1+)\";\n",
    "      sbString = Regex.Replace(sbString, pattern, \n",
    "                               m => (m.Index > 0 ? \"_\" : \"\") + \n",
    "                               m.Groups[1].Value.ToUpper() + \n",
    "                               m.Groups[2].Value);\n",
    "\n",
    "      // Display the resulting string.\n",
    "      int line = 0;\n",
    "      do {\n",
    "         int nChars = line * 80 + 79 <= sbString.Length ? \n",
    "                             80 : sbString.Length - line * 80;\n",
    "         Console.WriteLine(sbString.Substring(line * 80, nChars));\n",
    "         line++;\n",
    "      } while (line * 80 < sbString.Length);\n",
    "   }\n",
    "}\n",
    "// The example displays the following output:\n",
    "//    Aaaa_Bbbb_Cccc_Dddd_Eeee_Ffff_Gggg_Hhhh_Iiii_Jjjj_Kkkk_Llll_Mmmm_Nnnn_Oooo_Pppp_\n",
    "//    Qqqq_Rrrr_Ssss_Tttt_Uuuu_Vvvv_Wwww_Xxxx_Yyyy_Zzzz"
   ]
  },
  {
   "cell_type": "markdown",
   "metadata": {},
   "source": [
    "Store all the unmodified text in the StringBuilder object, call the StringBuilder.ToString method to convert the StringBuilder object to a String object, and perform the modifications on the String object. You can use this approach if you have only a few modifications; otherwise, the cost of working with immutable strings may negate the performance benefits of using a StringBuilder object.\n",
    "\n",
    "The following example is identical in functionality to the previous two examples but differs in implementation. It creates a StringBuilder object, converts it to a String object, and then uses a regular expression to perform all remaining modifications on the string. The Regex.Replace(String, String, MatchEvaluator) method uses a lambda expression to perform the replacement on each match.\n"
   ]
  },
  {
   "cell_type": "code",
   "execution_count": null,
   "metadata": {
    "dotnet_interactive": {
     "language": "csharp"
    },
    "vscode": {
     "languageId": "dotnet-interactive.csharp"
    }
   },
   "outputs": [],
   "source": [
    "using System;\n",
    "using System.Text;\n",
    "using System.Text.RegularExpressions;\n",
    "\n",
    "public class Example\n",
    "{\n",
    "   public static void Main()\n",
    "   {\n",
    "      // Create a StringBuilder object with 4 successive occurrences \n",
    "      // of each character in the English alphabet. \n",
    "      StringBuilder sb = new StringBuilder();\n",
    "      for (ushort ctr = (ushort)'a'; ctr <= (ushort) 'z'; ctr++)\n",
    "         sb.Append(Convert.ToChar(ctr), 4);\n",
    "     \n",
    "      // Convert it to a string.\n",
    "      String sbString = sb.ToString();\n",
    "\n",
    "      // Use a regex to uppercase the first occurrence of the sequence, \n",
    "      // and separate it from the previous sequence by an underscore.\n",
    "      string pattern = @\"(\\w)(\\1+)\";\n",
    "      sbString = Regex.Replace(sbString, pattern, \n",
    "                               m => (m.Index > 0 ? \"_\" : \"\") + \n",
    "                               m.Groups[1].Value.ToUpper() + \n",
    "                               m.Groups[2].Value);\n",
    "\n",
    "      // Display the resulting string.\n",
    "      int line = 0;\n",
    "      do {\n",
    "         int nChars = line * 80 + 79 <= sbString.Length ? \n",
    "                             80 : sbString.Length - line * 80;\n",
    "         Console.WriteLine(sbString.Substring(line * 80, nChars));\n",
    "         line++;\n",
    "      } while (line * 80 < sbString.Length);\n",
    "   }\n",
    "}\n",
    "// The example displays the following output:\n",
    "//    Aaaa_Bbbb_Cccc_Dddd_Eeee_Ffff_Gggg_Hhhh_Iiii_Jjjj_Kkkk_Llll_Mmmm_Nnnn_Oooo_Pppp_\n",
    "//    Qqqq_Rrrr_Ssss_Tttt_Uuuu_Vvvv_Wwww_Xxxx_Yyyy_Zzzz"
   ]
  },
  {
   "cell_type": "markdown",
   "metadata": {},
   "source": [
    "Converting the StringBuilder object to a string\n",
    "\n",
    "You must convert the StringBuilder object to a String object before you can pass the string represented by the StringBuilder object to a method that has a String parameter or display it in the user interface. You perform this conversion by calling the StringBuilder.ToString method. For an illustration, see the previous example, which calls the ToString method to convert a StringBuilder object to a string so that it can be passed to a regular expression method.\n",
    "Notes to Callers\n",
    "\n",
    "In .NET Core and in the .NET Framework 4.0 and later versions, when you instantiate the StringBuilder object by calling the StringBuilder(Int32, Int32) constructor, both the length and the capacity of the StringBuilder instance can grow beyond the value of its MaxCapacity property. This can occur particularly when you call the Append(String) and AppendFormat(String, Object) methods to append small strings."
   ]
  }
 ],
 "metadata": {
  "kernelspec": {
   "display_name": ".NET (C#)",
   "language": "C#",
   "name": ".net-csharp"
  },
  "language_info": {
   "file_extension": ".cs",
   "mimetype": "text/x-csharp",
   "name": "C#",
   "pygments_lexer": "csharp",
   "version": "9.0"
  },
  "orig_nbformat": 4
 },
 "nbformat": 4,
 "nbformat_minor": 2
}
