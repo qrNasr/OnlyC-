{
 "cells": [
  {
   "cell_type": "markdown",
   "metadata": {},
   "source": [
    "#Hashet"
   ]
  },
  {
   "cell_type": "code",
   "execution_count": null,
   "metadata": {
    "dotnet_interactive": {
     "language": "csharp"
    },
    "vscode": {
     "languageId": "dotnet-interactive.csharp"
    }
   },
   "outputs": [
    {
     "name": "stdout",
     "output_type": "stream",
     "text": [
      "111\n",
      "222\n",
      "333\n",
      "444\n",
      "555\n"
     ]
    }
   ],
   "source": [
    "// fast, unodered, does not allow repeated values\n",
    "HashSet<int> hs = new HashSet<int>();\n",
    "hs.Add(111); \n",
    "hs.Add(222); \n",
    "hs.Add(333); \n",
    "hs.Add(444); \n",
    "hs.Add(555); \n",
    "// convert hashset to an array\n",
    "var my=hs.ToArray();\n",
    "Console.WriteLine(my[0]);\n",
    "Console.WriteLine(my[1]);\n",
    "Console.WriteLine(my[2]);\n",
    "Console.WriteLine(my[3]);\n",
    "Console.WriteLine(my[4]);\n",
    "\n"
   ]
  },
  {
   "cell_type": "code",
   "execution_count": null,
   "metadata": {
    "dotnet_interactive": {
     "language": "csharp"
    },
    "vscode": {
     "languageId": "dotnet-interactive.csharp"
    }
   },
   "outputs": [
    {
     "name": "stdout",
     "output_type": "stream",
     "text": [
      "Count now : 0\n",
      "Count now : 3\n",
      "Count now : 3\n",
      "Count now : 5\n",
      "Count now : 4\n"
     ]
    }
   ],
   "source": [
    "//does not allow repeated values\n",
    "HashSet<int> hs = new HashSet<int>();\n",
    "\n",
    "Console.WriteLine(\"Count now : {0}\",  hs.Count);// zero value addeed\n",
    "hs.Add(111); \n",
    "hs.Add(222); \n",
    "hs.Add(333); \n",
    "\n",
    "Console.WriteLine(\"Count now : {0}\",  hs.Count);// added 3 values\n",
    "hs.Add(111); \n",
    "hs.Add(333); \n",
    "hs.Add(333);\n",
    "hs.Add(333);\n",
    "\n",
    "Console.WriteLine(\"Count now : {0}\",  hs.Count); \n",
    "hs.Add(444);\n",
    "hs.Add(555);\n",
    "\n",
    "Console.WriteLine(\"Count now : {0}\",  hs.Count);\n",
    "hs.Remove(333);\n",
    "Console.WriteLine(\"Count now : {0}\",  hs.Count);"
   ]
  },
  {
   "cell_type": "markdown",
   "metadata": {},
   "source": [
    "## Reverse objects"
   ]
  },
  {
   "cell_type": "code",
   "execution_count": null,
   "metadata": {
    "dotnet_interactive": {
     "language": "csharp"
    },
    "vscode": {
     "languageId": "dotnet-interactive.csharp"
    }
   },
   "outputs": [
    {
     "name": "stdout",
     "output_type": "stream",
     "text": [
      "3\n",
      "2\n",
      "1\n"
     ]
    }
   ],
   "source": [
    "int [] num = new int []{1,2,3};\n",
    "num=num.Reverse().ToArray();\n",
    "Console.WriteLine(num[0]);\n",
    "Console.WriteLine(num[1]);\n",
    "Console.WriteLine(num[2]);"
   ]
  },
  {
   "cell_type": "markdown",
   "metadata": {},
   "source": [
    "# reverse a list using List<>"
   ]
  },
  {
   "cell_type": "code",
   "execution_count": null,
   "metadata": {
    "dotnet_interactive": {
     "language": "csharp"
    },
    "vscode": {
     "languageId": "dotnet-interactive.csharp"
    }
   },
   "outputs": [
    {
     "name": "stdout",
     "output_type": "stream",
     "text": [
      "3\n",
      "2\n",
      "1\n"
     ]
    }
   ],
   "source": [
    "List<int> num = new List<int>();\n",
    "num.Add(1);\n",
    "num.Add(2);\n",
    "num.Add(3);\n",
    "num.Reverse();\n",
    "Console.WriteLine(num[0]);\n",
    "Console.WriteLine(num[1]);\n",
    "Console.WriteLine(num[2]);"
   ]
  },
  {
   "cell_type": "markdown",
   "metadata": {},
   "source": [
    "# Single-Dimensional Arrays"
   ]
  },
  {
   "cell_type": "markdown",
   "metadata": {},
   "source": [
    "You create a single-dimensional array using the new operator specifying the array element type and the number of elements. The following example declares an array of five integers:"
   ]
  },
  {
   "cell_type": "code",
   "execution_count": null,
   "metadata": {
    "dotnet_interactive": {
     "language": "csharp"
    },
    "vscode": {
     "languageId": "dotnet-interactive.csharp"
    }
   },
   "outputs": [],
   "source": [
    "int[] array = new int[5];"
   ]
  },
  {
   "cell_type": "markdown",
   "metadata": {},
   "source": [
    "This array contains the elements from array[0] to array[4]. The elements of the array are initialized to the default value of the element type, 0 for integers.\n",
    "\n",
    "Arrays can store any element type you specify, such as the following example that declares an array of strings:"
   ]
  },
  {
   "cell_type": "code",
   "execution_count": null,
   "metadata": {
    "dotnet_interactive": {
     "language": "csharp"
    },
    "vscode": {
     "languageId": "dotnet-interactive.csharp"
    }
   },
   "outputs": [],
   "source": [
    "string[] stringArray = new string[6];"
   ]
  },
  {
   "cell_type": "markdown",
   "metadata": {},
   "source": [
    "## Array Initialization\n"
   ]
  },
  {
   "cell_type": "markdown",
   "metadata": {},
   "source": [
    "\n",
    "You can initialize the elements of an array when you declare the array. The length specifier isn't needed because it's inferred by the number of elements in the initialization list. For exa"
   ]
  },
  {
   "cell_type": "code",
   "execution_count": null,
   "metadata": {
    "dotnet_interactive": {
     "language": "csharp"
    },
    "vscode": {
     "languageId": "dotnet-interactive.csharp"
    }
   },
   "outputs": [],
   "source": [
    "int[] array1 = new int[] { 1, 3, 5, 7, 9 };"
   ]
  },
  {
   "cell_type": "markdown",
   "metadata": {},
   "source": [
    "The following code shows a declaration of a string array where each array element is initialized by a name of a day:"
   ]
  },
  {
   "cell_type": "code",
   "execution_count": null,
   "metadata": {
    "dotnet_interactive": {
     "language": "csharp"
    },
    "vscode": {
     "languageId": "dotnet-interactive.csharp"
    }
   },
   "outputs": [],
   "source": [
    "string[] weekDays = new string[] { \"Sun\", \"Mon\", \"Tue\", \"Wed\", \"Thu\", \"Fri\", \"Sat\" };"
   ]
  },
  {
   "cell_type": "markdown",
   "metadata": {},
   "source": [
    "You can avoid the new expression and the array type when you initialize an array upon declaration, as shown in the following code. This is called an implicitly typed array:"
   ]
  },
  {
   "cell_type": "code",
   "execution_count": null,
   "metadata": {
    "dotnet_interactive": {
     "language": "csharp"
    },
    "vscode": {
     "languageId": "dotnet-interactive.csharp"
    }
   },
   "outputs": [],
   "source": [
    "int[] array2 = { 1, 3, 5, 7, 9 };\n",
    "string[] weekDays2 = { \"Sun\", \"Mon\", \"Tue\", \"Wed\", \"Thu\", \"Fri\", \"Sat\" };"
   ]
  },
  {
   "cell_type": "markdown",
   "metadata": {},
   "source": [
    "You can declare an array variable without creating it, but you must use the new operator when you assign a new array to this variable. For example:"
   ]
  },
  {
   "cell_type": "code",
   "execution_count": null,
   "metadata": {
    "dotnet_interactive": {
     "language": "csharp"
    },
    "vscode": {
     "languageId": "dotnet-interactive.csharp"
    }
   },
   "outputs": [],
   "source": [
    "int[] array3;\n",
    "array3 = new int[] { 1, 3, 5, 7, 9 };   // OK\n",
    "//array3 = {1, 3, 5, 7, 9};   // Error"
   ]
  },
  {
   "cell_type": "markdown",
   "metadata": {},
   "source": [
    "## Value Type and Reference Type Arrays"
   ]
  },
  {
   "cell_type": "markdown",
   "metadata": {},
   "source": [
    "Consider the following array declaration:"
   ]
  },
  {
   "cell_type": "markdown",
   "metadata": {},
   "source": [
    "SomeType[] array4 = new SomeType[10];"
   ]
  },
  {
   "cell_type": "markdown",
   "metadata": {},
   "source": [
    "The result of this statement depends on whether SomeType is a value type or a reference type. If it's a value type, the statement creates an array of 10 elements, each of which has the type SomeType. If SomeType is a reference type, the statement creates an array of 10 elements, each of which is initialized to a null reference. In both instances, the elements are initialized to the default value for the element type. For more information about value types and reference types, see Value types and Reference types.\n"
   ]
  },
  {
   "cell_type": "markdown",
   "metadata": {},
   "source": [
    "### Retrieving data from Array"
   ]
  },
  {
   "cell_type": "markdown",
   "metadata": {},
   "source": [
    "You can retrieve the data of an array by using an index. For examp"
   ]
  },
  {
   "cell_type": "code",
   "execution_count": null,
   "metadata": {
    "dotnet_interactive": {
     "language": "csharp"
    },
    "vscode": {
     "languageId": "dotnet-interactive.csharp"
    }
   },
   "outputs": [],
   "source": [
    "string[] weekDays2 = { \"Sun\", \"Mon\", \"Tue\", \"Wed\", \"Thu\", \"Fri\", \"Sat\" };\n",
    "\n",
    "Console.WriteLine(weekDays2[0]);\n",
    "Console.WriteLine(weekDays2[1]);\n",
    "Console.WriteLine(weekDays2[2]);\n",
    "Console.WriteLine(weekDays2[3]);\n",
    "Console.WriteLine(weekDays2[4]);\n",
    "Console.WriteLine(weekDays2[5]);\n",
    "Console.WriteLine(weekDays2[6]);"
   ]
  },
  {
   "cell_type": "markdown",
   "metadata": {},
   "source": [
    "# MultiDimensionaly Array"
   ]
  },
  {
   "cell_type": "markdown",
   "metadata": {},
   "source": [
    "### Its array of arrays"
   ]
  },
  {
   "cell_type": "markdown",
   "metadata": {},
   "source": [
    "Arrays can have more than one dimension. For example, the following declaration creates a two-dimensional array of four rows and two columns."
   ]
  },
  {
   "cell_type": "code",
   "execution_count": null,
   "metadata": {
    "dotnet_interactive": {
     "language": "csharp"
    },
    "vscode": {
     "languageId": "dotnet-interactive.csharp"
    }
   },
   "outputs": [],
   "source": [
    "int[,] array = new int[4, 2];"
   ]
  },
  {
   "cell_type": "markdown",
   "metadata": {},
   "source": [
    "The following declaration creates an array of three dimensions, 4, 2, and 3."
   ]
  },
  {
   "cell_type": "code",
   "execution_count": null,
   "metadata": {
    "dotnet_interactive": {
     "language": "csharp"
    },
    "vscode": {
     "languageId": "dotnet-interactive.csharp"
    }
   },
   "outputs": [],
   "source": [
    "int[,,] array1 = new int[4, 2, 3];"
   ]
  },
  {
   "cell_type": "markdown",
   "metadata": {},
   "source": [
    "Array Initialization\n",
    "\n",
    "You can initialize the array upon declaration, as is shown in the following example."
   ]
  },
  {
   "cell_type": "code",
   "execution_count": null,
   "metadata": {
    "dotnet_interactive": {
     "language": "csharp"
    },
    "vscode": {
     "languageId": "dotnet-interactive.csharp"
    }
   },
   "outputs": [
    {
     "name": "stdout",
     "output_type": "stream",
     "text": [
      "1\n",
      "2\n",
      "3\n",
      "4\n",
      "7\n",
      "three\n",
      "8\n",
      "12\n",
      "12 equals 12\n"
     ]
    }
   ],
   "source": [
    "// Two-dimensional array.\n",
    "int[,] array2D = new int[,] { { 1, 2 }, { 3, 4 }, { 5, 6 }, { 7, 8 } };\n",
    "// The same array with dimensions specified.\n",
    "int[,] array2Da = new int[4, 2] { { 1, 2 }, { 3, 4 }, { 5, 6 }, { 7, 8 } };\n",
    "// A similar array with string elements.\n",
    "string[,] array2Db = new string[3, 2] { { \"one\", \"two\" }, { \"three\", \"four\" },\n",
    "                                        { \"five\", \"six\" } };\n",
    "\n",
    "// Three-dimensional array.\n",
    "int[,,] array3D = new int[,,] { { { 1, 2, 3 }, { 4, 5, 6 } },\n",
    "                                 { { 7, 8, 9 }, { 10, 11, 12 } } };\n",
    "// The same array with dimensions specified.\n",
    "int[,,] array3Da = new int[2, 2, 3] { { { 1, 2, 3 }, { 4, 5, 6 } },\n",
    "                                       { { 7, 8, 9 }, { 10, 11, 12 } } };\n",
    "\n",
    "// Accessing array elements.\n",
    "System.Console.WriteLine(array2D[0, 0]);\n",
    "System.Console.WriteLine(array2D[0, 1]);\n",
    "System.Console.WriteLine(array2D[1, 0]);\n",
    "System.Console.WriteLine(array2D[1, 1]);\n",
    "System.Console.WriteLine(array2D[3, 0]);\n",
    "System.Console.WriteLine(array2Db[1, 0]);\n",
    "System.Console.WriteLine(array3Da[1, 0, 1]);\n",
    "System.Console.WriteLine(array3D[1, 1, 2]);\n",
    "\n",
    "// Getting the total count of elements or the length of a given dimension.\n",
    "var allLength = array3D.Length;\n",
    "var total = 1;\n",
    "for (int i = 0; i < array3D.Rank; i++)\n",
    "{\n",
    "    total *= array3D.GetLength(i);\n",
    "}\n",
    "System.Console.WriteLine(\"{0} equals {1}\", allLength, total);\n",
    "\n",
    "// Output:\n",
    "// 1\n",
    "// 2\n",
    "// 3\n",
    "// 4\n",
    "// 7\n",
    "// three\n",
    "// 8\n",
    "// 12\n",
    "// 12 equals 12"
   ]
  },
  {
   "cell_type": "markdown",
   "metadata": {},
   "source": [
    "You can also initialize the array without specifying the rank."
   ]
  },
  {
   "cell_type": "code",
   "execution_count": null,
   "metadata": {
    "dotnet_interactive": {
     "language": "csharp"
    },
    "vscode": {
     "languageId": "dotnet-interactive.csharp"
    }
   },
   "outputs": [],
   "source": [
    "int[,] array4 = { { 1, 2 }, { 3, 4 }, { 5, 6 }, { 7, 8 } };"
   ]
  },
  {
   "cell_type": "markdown",
   "metadata": {},
   "source": [
    "If you choose to declare an array variable without initialization, you must use the new operator to assign an array to the variable. The use of new is shown in the following example."
   ]
  },
  {
   "cell_type": "code",
   "execution_count": null,
   "metadata": {
    "dotnet_interactive": {
     "language": "csharp"
    },
    "vscode": {
     "languageId": "dotnet-interactive.csharp"
    }
   },
   "outputs": [],
   "source": [
    "int[,] array5;\n",
    "array5 = new int[,] { { 1, 2 }, { 3, 4 }, { 5, 6 }, { 7, 8 } };   // OK\n",
    "//array5 = {{1,2}, {3,4}, {5,6}, {7,8}};   // Error"
   ]
  },
  {
   "cell_type": "markdown",
   "metadata": {},
   "source": [
    "The following example assigns a value to a particular array element."
   ]
  },
  {
   "cell_type": "code",
   "execution_count": null,
   "metadata": {
    "dotnet_interactive": {
     "language": "csharp"
    },
    "vscode": {
     "languageId": "dotnet-interactive.csharp"
    }
   },
   "outputs": [],
   "source": [
    "arrayz[2, 1] = 25;"
   ]
  },
  {
   "cell_type": "markdown",
   "metadata": {},
   "source": [
    "Similarly, the following example gets the value of a particular array element and assigns it to variable elementValue."
   ]
  },
  {
   "cell_type": "code",
   "execution_count": null,
   "metadata": {
    "dotnet_interactive": {
     "language": "csharp"
    },
    "vscode": {
     "languageId": "dotnet-interactive.csharp"
    }
   },
   "outputs": [],
   "source": [
    "int elementValue = arrayz[2, 1];"
   ]
  },
  {
   "cell_type": "markdown",
   "metadata": {},
   "source": [
    "The following code example initializes the array elements to default values (except for jagged arrays)."
   ]
  },
  {
   "cell_type": "markdown",
   "metadata": {},
   "source": [
    "# Jagged Arrays"
   ]
  },
  {
   "cell_type": "markdown",
   "metadata": {},
   "source": [
    "A jagged array is an array whose elements are arrays, possibly of different sizes. A jagged array is sometimes called an \"array of arrays.\" The following examples show how to declare, initialize, and access jagged arrays.\n",
    "\n",
    "The following is a declaration of a single-dimensional array that has three elements, each of which is a single-dimensional array of integers:"
   ]
  },
  {
   "cell_type": "code",
   "execution_count": null,
   "metadata": {
    "dotnet_interactive": {
     "language": "csharp"
    },
    "vscode": {
     "languageId": "dotnet-interactive.csharp"
    }
   },
   "outputs": [],
   "source": [
    "int[][] jaggedArray = new int[3][];"
   ]
  },
  {
   "cell_type": "code",
   "execution_count": null,
   "metadata": {
    "dotnet_interactive": {
     "language": "csharp"
    },
    "vscode": {
     "languageId": "dotnet-interactive.csharp"
    }
   },
   "outputs": [],
   "source": [
    "int[,] array6 = new int[10, 10];"
   ]
  },
  {
   "cell_type": "markdown",
   "metadata": {},
   "source": [
    "Before you can use jaggedArray, its elements must be initialized. You can initialize the elements like th"
   ]
  },
  {
   "cell_type": "code",
   "execution_count": null,
   "metadata": {
    "dotnet_interactive": {
     "language": "csharp"
    },
    "vscode": {
     "languageId": "dotnet-interactive.csharp"
    }
   },
   "outputs": [],
   "source": [
    "jArray[0] = new int[5];\n",
    "jArray[1] = new int[4];\n",
    "jArray[2] = new int[2];"
   ]
  },
  {
   "cell_type": "markdown",
   "metadata": {},
   "source": [
    "Each of the elements is a single-dimensional array of integers. The first element is an array of 5 integers, the second is an array of 4 integers, and the third is an array of 2 integers.\n",
    "\n",
    "It is also possible to use initializers to fill the array elements with values, in which case you do not need the array size. For example:"
   ]
  },
  {
   "cell_type": "code",
   "execution_count": null,
   "metadata": {
    "dotnet_interactive": {
     "language": "csharp"
    },
    "vscode": {
     "languageId": "dotnet-interactive.csharp"
    }
   },
   "outputs": [],
   "source": [
    "jaggedArray[0] = new int[] { 1, 3, 5, 7, 9 };\n",
    "jaggedArray[1] = new int[] { 0, 2, 4, 6 };\n",
    "jaggedArray[2] = new int[] { 11, 22 };"
   ]
  },
  {
   "cell_type": "markdown",
   "metadata": {},
   "source": [
    "You can also initialize the array upon declaration like this:"
   ]
  },
  {
   "cell_type": "code",
   "execution_count": null,
   "metadata": {
    "dotnet_interactive": {
     "language": "csharp"
    },
    "vscode": {
     "languageId": "dotnet-interactive.csharp"
    }
   },
   "outputs": [],
   "source": [
    "int[][] jaggedArray2 = new int[][]\n",
    "{\n",
    "new int[] { 1, 3, 5, 7, 9 },\n",
    "new int[] { 0, 2, 4, 6 },\n",
    "new int[] { 11, 22 }\n",
    "};"
   ]
  },
  {
   "cell_type": "markdown",
   "metadata": {},
   "source": [
    "You can use the following shorthand form. Notice that you cannot omit the new operator from the elements initialization because there is no default initialization for the elements:"
   ]
  },
  {
   "cell_type": "code",
   "execution_count": null,
   "metadata": {
    "dotnet_interactive": {
     "language": "csharp"
    },
    "vscode": {
     "languageId": "dotnet-interactive.csharp"
    }
   },
   "outputs": [],
   "source": [
    "int[][] jaggedArray3 =\n",
    "{\n",
    "    new int[] { 1, 3, 5, 7, 9 },\n",
    "    new int[] { 0, 2, 4, 6 },\n",
    "    new int[] { 11, 22 }\n",
    "};"
   ]
  },
  {
   "cell_type": "markdown",
   "metadata": {},
   "source": [
    "You can use the following shorthand form. Notice that you cannot omit the new operator from the elements initialization because there is no default initialization for the elements:"
   ]
  },
  {
   "cell_type": "code",
   "execution_count": null,
   "metadata": {
    "dotnet_interactive": {
     "language": "csharp"
    },
    "vscode": {
     "languageId": "dotnet-interactive.csharp"
    }
   },
   "outputs": [],
   "source": [
    "int[][] jaggedArray3 =\n",
    "{\n",
    "    new int[] { 1, 3, 5, 7, 9 },\n",
    "    new int[] { 0, 2, 4, 6 },\n",
    "    new int[] { 11, 22 }\n",
    "};"
   ]
  },
  {
   "cell_type": "markdown",
   "metadata": {},
   "source": [
    "A jagged array is an array of arrays, and therefore its elements are reference types and are initialized to null.\n",
    "\n",
    "You can access individual array elements like these examples:"
   ]
  },
  {
   "cell_type": "code",
   "execution_count": null,
   "metadata": {
    "dotnet_interactive": {
     "language": "csharp"
    },
    "vscode": {
     "languageId": "dotnet-interactive.csharp"
    }
   },
   "outputs": [],
   "source": [
    "// Assign 77 to the second element ([1]) of the first array ([0]):\n",
    "jaggedArray3[0][1] = 77;\n",
    "\n",
    "// Assign 88 to the second element ([1]) of the third array ([2]):\n",
    "jaggedArray3[2][1] = 88;"
   ]
  },
  {
   "cell_type": "markdown",
   "metadata": {},
   "source": [
    "It's possible to mix jagged and multidimensional arrays. The following is a declaration and initialization of a single-dimensional jagged array that contains three two-dimensional array elements of different sizes. For more information, see Multidimensional Arrays."
   ]
  },
  {
   "cell_type": "code",
   "execution_count": null,
   "metadata": {
    "dotnet_interactive": {
     "language": "csharp"
    },
    "vscode": {
     "languageId": "dotnet-interactive.csharp"
    }
   },
   "outputs": [],
   "source": [
    "int[][,] jaggedArray4 = new int[3][,]\n",
    "{\n",
    "    new int[,] { {1,3}, {5,7} },\n",
    "    new int[,] { {0,2}, {4,6}, {8,10} },\n",
    "    new int[,] { {11,22}, {99,88}, {0,9} }\n",
    "};"
   ]
  },
  {
   "cell_type": "markdown",
   "metadata": {},
   "source": [
    "You can access individual elements as shown in this example, which displays the value of the element [1,0] of the first array (value 5):"
   ]
  },
  {
   "cell_type": "code",
   "execution_count": null,
   "metadata": {
    "dotnet_interactive": {
     "language": "csharp"
    },
    "vscode": {
     "languageId": "dotnet-interactive.csharp"
    }
   },
   "outputs": [],
   "source": [
    "System.Console.Write(\"{0}\", jaggedArray4[0][1, 0]);"
   ]
  },
  {
   "cell_type": "markdown",
   "metadata": {},
   "source": [
    "The method Length returns the number of arrays contained in the jagged array. For example, assuming you have declared the previous array, this line:"
   ]
  },
  {
   "cell_type": "code",
   "execution_count": null,
   "metadata": {
    "dotnet_interactive": {
     "language": "csharp"
    },
    "vscode": {
     "languageId": "dotnet-interactive.csharp"
    }
   },
   "outputs": [],
   "source": [
    "System.Console.WriteLine(jaggedArray4.Length);"
   ]
  },
  {
   "cell_type": "markdown",
   "metadata": {},
   "source": [
    "This example builds an array whose elements are themselves arrays. Each one of the array elements has a different size."
   ]
  },
  {
   "cell_type": "code",
   "execution_count": null,
   "metadata": {
    "dotnet_interactive": {
     "language": "csharp"
    },
    "vscode": {
     "languageId": "dotnet-interactive.csharp"
    }
   },
   "outputs": [],
   "source": [
    "class ArrayTest\n",
    "{\n",
    "    static void Main()\n",
    "    {\n",
    "        // Declare the array of two elements.\n",
    "        int[][] arr = new int[2][];\n",
    "\n",
    "        // Initialize the elements.\n",
    "        arr[0] = new int[5] { 1, 3, 5, 7, 9 };\n",
    "        arr[1] = new int[4] { 2, 4, 6, 8 };\n",
    "\n",
    "        // Display the array elements.\n",
    "        for (int i = 0; i < arr.Length; i++)\n",
    "        {\n",
    "            System.Console.Write(\"Element({0}): \", i);\n",
    "\n",
    "            for (int j = 0; j < arr[i].Length; j++)\n",
    "            {\n",
    "                System.Console.Write(\"{0}{1}\", arr[i][j], j == (arr[i].Length - 1) ? \"\" : \" \");\n",
    "            }\n",
    "            System.Console.WriteLine();\n",
    "        }\n",
    "        // Keep the console window open in debug mode.\n",
    "        System.Console.WriteLine(\"Press any key to exit.\");\n",
    "        System.Console.ReadKey();\n",
    "    }\n",
    "}\n",
    "/* Output:\n",
    "    Element(0): 1 3 5 7 9\n",
    "    Element(1): 2 4 6 8\n",
    "*/"
   ]
  },
  {
   "cell_type": "code",
   "execution_count": null,
   "metadata": {
    "dotnet_interactive": {
     "language": "csharp"
    },
    "vscode": {
     "languageId": "dotnet-interactive.csharp"
    }
   },
   "outputs": [
    {
     "name": "stdout",
     "output_type": "stream",
     "text": [
      "F-150\n",
      "Explorer\n",
      "Fusion\n",
      "==========================\n",
      "Mustang\n",
      "F-150\n",
      "Fusion\n",
      "Corvett\n",
      "Camaro\n",
      "Silvrado\n",
      "Corrola\n",
      "Camry\n",
      "Rava4\n",
      "==========================\n",
      "Mustang \n",
      "F-150 \n",
      "Fusion \n",
      "Corvett \n",
      "Camaro \n",
      "Silvrado \n",
      "Corrola \n",
      "Camry \n",
      "Rava4 \n"
     ]
    }
   ],
   "source": [
    "String []ford ={\"Mustang\",\"F-150\",\"Explorer\"};\n",
    "String []chevey ={\"Corvett\",\"Camaro\",\"Silvrado\"};\n",
    "String []Toyota ={\"Corrola\",\"Camry\",\"Rava4\"};\n",
    "\n",
    "String [,] parkingLot ={{\"Mustang\",\"F-150\",\"Explorer\"},\n",
    "                        {\"Corvett\",\"Camaro\",\"Silvrado\"},\n",
    "                        {\"Corrola\",\"Camry\",\"Rava4\"}};\n",
    "// To Access the array, use index for row and index for column\n",
    "\n",
    "Console.WriteLine(parkingLot[0,1]); \n",
    "Console.WriteLine(parkingLot[0,2]); \n",
    "\n",
    "parkingLot[0,2]=\"Fusion\";\n",
    "Console.WriteLine(parkingLot[0,2]); \n",
    "Console.WriteLine(\"==========================\");\n",
    "// now loop through the array\n",
    "\n",
    "foreach(String car in parkingLot){\n",
    "    Console.WriteLine(car);\n",
    "}\n",
    "\n",
    "Console.WriteLine(\"==========================\");\n",
    "// Nested loop to have a grid view\n",
    "\n",
    "for(int i=0; i<parkingLot.GetLength(0);i++){\n",
    "\n",
    "    for(int j=0; j< parkingLot.GetLength(1);j++)\n",
    "    \n",
    "    {\n",
    "        Console.WriteLine(parkingLot[i, j]+\" \");\n",
    "\n",
    "    }\n",
    "\n",
    "}\n"
   ]
  },
  {
   "cell_type": "code",
   "execution_count": null,
   "metadata": {
    "dotnet_interactive": {
     "language": "csharp"
    },
    "vscode": {
     "languageId": "dotnet-interactive.csharp"
    }
   },
   "outputs": [],
   "source": [
    "string [][]emp = new string [5][];\n",
    "emp[0]=new string[2];\n",
    "emp[1]=new string[2];\n",
    "emp[2]=new string[2];\n",
    "emp[3]=new string[2];\n",
    "emp[3]=new string[2];\n",
    "\n",
    "emp[0][0]= \"1\"; emp [0][1] =\"Shahd\";\n",
    "emp[0][0]= \"2\"; emp [1][1] =\"Nasr\";\n",
    "emp[0][0]= \"3\"; emp [2][1] =\"Mona\";\n",
    "emp[0][0]= \"4\"; emp [3][1] =\"Malak\";\n",
    "emp[0][0]= \"5\"; emp [4][1] =\"Omar\";\n",
    "\n",
    "Console.WriteLine(\"\")"
   ]
  },
  {
   "cell_type": "markdown",
   "metadata": {},
   "source": [
    "# Using foreach with arrays"
   ]
  },
  {
   "cell_type": "code",
   "execution_count": null,
   "metadata": {
    "dotnet_interactive": {
     "language": "csharp"
    },
    "vscode": {
     "languageId": "dotnet-interactive.csharp"
    }
   },
   "outputs": [],
   "source": [
    "int[] numbers = { 4, 5, 6, 1, 2, 3, -2, -1, 0 };\n",
    "foreach (int i in numbers)\n",
    "{\n",
    "    System.Console.Write(\"{0} \", i);\n",
    "}\n",
    "// Output: 4 5 6 1 2 3 -2 -1 0"
   ]
  },
  {
   "cell_type": "code",
   "execution_count": null,
   "metadata": {
    "dotnet_interactive": {
     "language": "csharp"
    },
    "vscode": {
     "languageId": "dotnet-interactive.csharp"
    }
   },
   "outputs": [
    {
     "name": "stdout",
     "output_type": "stream",
     "text": [
      "9 99 3 33 5 55 "
     ]
    }
   ],
   "source": [
    "int[,] numbers2D = new int[3, 2] { { 9, 99 }, { 3, 33 }, { 5, 55 } };\n",
    "// Or use the short form:\n",
    "// int[,] numbers2D = { { 9, 99 }, { 3, 33 }, { 5, 55 } };\n",
    "\n",
    "foreach (int i in numbers2D)\n",
    "{\n",
    "    System.Console.Write(\"{0} \", i);\n",
    "}\n",
    "// Output: 9 99 3 33 5 55"
   ]
  },
  {
   "cell_type": "markdown",
   "metadata": {},
   "source": [
    "For multi-dimensional arrays, elements are traversed such that the indices of the rightmost dimension are increased first, then the next left dimension, and so on to the left:"
   ]
  },
  {
   "cell_type": "code",
   "execution_count": null,
   "metadata": {
    "dotnet_interactive": {
     "language": "csharp"
    },
    "vscode": {
     "languageId": "dotnet-interactive.csharp"
    }
   },
   "outputs": [
    {
     "name": "stdout",
     "output_type": "stream",
     "text": [
      "9 99 3 33 5 55 "
     ]
    }
   ],
   "source": [
    "int[,] numbers2D = new int[3, 2] { { 9, 99 }, { 3, 33 }, { 5, 55 } };\n",
    "// Or use the short form:\n",
    "// int[,] numbers2D = { { 9, 99 }, { 3, 33 }, { 5, 55 } };\n",
    "\n",
    "foreach (int i in numbers2D)\n",
    "{\n",
    "    System.Console.Write(\"{0} \", i);\n",
    "}\n",
    "// Output: 9 99 3 33 5 55"
   ]
  },
  {
   "cell_type": "markdown",
   "metadata": {},
   "source": [
    "However, with multidimensional arrays, using a nested for loop gives you more control over the order in which to process the array elements."
   ]
  },
  {
   "cell_type": "markdown",
   "metadata": {},
   "source": [
    "# For Loop"
   ]
  },
  {
   "cell_type": "markdown",
   "metadata": {},
   "source": [
    "The for statement\n",
    "\n",
    "The for statement executes a statement or a block of statements while a specified Boolean expression evaluates to true. The following example shows the for statement that executes its body while an integer counter is less than three:"
   ]
  },
  {
   "cell_type": "code",
   "execution_count": null,
   "metadata": {
    "dotnet_interactive": {
     "language": "csharp"
    },
    "vscode": {
     "languageId": "dotnet-interactive.csharp"
    }
   },
   "outputs": [],
   "source": [
    "for (int i = 0; i < 3; i++)\n",
    "{\n",
    "    Console.Write(i);\n",
    "}\n",
    "// Output:\n",
    "// 012"
   ]
  },
  {
   "cell_type": "markdown",
   "metadata": {},
   "source": [
    "The preceding example shows the elements of the for statement:\n",
    "\n",
    "    The initializer section that is executed only once, before entering the loop. Typically, you declare and initialize a local loop variable in that section. The declared variable can't be accessed from outside the for statement.\n",
    "\n",
    "    The initializer section in the preceding example declares and initializes an integer counter variable:"
   ]
  },
  {
   "cell_type": "code",
   "execution_count": null,
   "metadata": {
    "dotnet_interactive": {
     "language": "csharp"
    },
    "vscode": {
     "languageId": "dotnet-interactive.csharp"
    }
   },
   "outputs": [],
   "source": [
    "int i = 0;"
   ]
  },
  {
   "cell_type": "markdown",
   "metadata": {},
   "source": [
    "The condition section that determines if the next iteration in the loop should be executed. If it evaluates to true or is not present, the next iteration is executed; otherwise, the loop is exited. The condition section must be a Boolean expression.\n",
    "\n",
    "The condition section in the preceding example checks if a counter value is less than thre"
   ]
  },
  {
   "cell_type": "code",
   "execution_count": null,
   "metadata": {
    "dotnet_interactive": {
     "language": "csharp"
    },
    "vscode": {
     "languageId": "dotnet-interactive.csharp"
    }
   },
   "outputs": [],
   "source": [
    "i < 3"
   ]
  },
  {
   "cell_type": "code",
   "execution_count": null,
   "metadata": {
    "dotnet_interactive": {
     "language": "csharp"
    },
    "vscode": {
     "languageId": "dotnet-interactive.csharp"
    }
   },
   "outputs": [
    {
     "name": "stdout",
     "output_type": "stream",
     "text": [
      "Start: i=0, j=3\n",
      "Step: i=1, j=2\n",
      "Step: i=2, j=1\n"
     ]
    }
   ],
   "source": [
    "int i;\n",
    "int j = 3;\n",
    "for (i = 0, Console.WriteLine($\"Start: i={i}, j={j}\"); i < j; i++, j--, Console.WriteLine($\"Step: i={i}, j={j}\"))\n",
    "{\n",
    "    //...\n",
    "}\n",
    "// Output:\n",
    "// Start: i=0, j=3\n",
    "// Step: i=1, j=2\n",
    "// Step: i=2, j=1"
   ]
  },
  {
   "cell_type": "markdown",
   "metadata": {},
   "source": []
  },
  {
   "cell_type": "markdown",
   "metadata": {},
   "source": [
    "# Conversions"
   ]
  },
  {
   "cell_type": "markdown",
   "metadata": {},
   "source": [
    "## Implicit Conversion"
   ]
  },
  {
   "cell_type": "code",
   "execution_count": null,
   "metadata": {
    "dotnet_interactive": {
     "language": "csharp"
    },
    "vscode": {
     "languageId": "dotnet-interactive.csharp"
    }
   },
   "outputs": [
    {
     "name": "stdout",
     "output_type": "stream",
     "text": [
      "Int32\n",
      "Int64\n"
     ]
    }
   ],
   "source": [
    "int num = 2147483647;\n",
    "long bigNum = num; // implicit conversion\n",
    "Console.WriteLine(num.GetType().Name);\n",
    "Console.WriteLine(bigNum.GetType().Name);\n"
   ]
  },
  {
   "cell_type": "markdown",
   "metadata": {},
   "source": [
    "## Explicit Conversion"
   ]
  },
  {
   "cell_type": "code",
   "execution_count": null,
   "metadata": {
    "dotnet_interactive": {
     "language": "csharp"
    },
    "vscode": {
     "languageId": "dotnet-interactive.csharp"
    }
   },
   "outputs": [
    {
     "name": "stdout",
     "output_type": "stream",
     "text": [
      "0\n",
      "Int32\n"
     ]
    }
   ],
   "source": [
    "double x= 1234.7;\n",
    "int a;\n",
    "// Cast Double yo int\n",
    "Console.WriteLine(a);\n",
    "Console.WriteLine(a.GetType().Name);"
   ]
  },
  {
   "cell_type": "code",
   "execution_count": null,
   "metadata": {
    "dotnet_interactive": {
     "language": "csharp"
    },
    "vscode": {
     "languageId": "dotnet-interactive.csharp"
    }
   },
   "outputs": [],
   "source": [
    "double x= 1234.7;\n",
    "int a;\n",
    "// Cast Double yo int\n",
    "a=(int)x; \n",
    "// convert double  to int\n",
    "Console.WriteLine(a);\n",
    "Console.WriteLine(a.GetType().Name);"
   ]
  },
  {
   "cell_type": "markdown",
   "metadata": {},
   "source": [
    "## Casting Methodes"
   ]
  },
  {
   "cell_type": "code",
   "execution_count": null,
   "metadata": {
    "dotnet_interactive": {
     "language": "csharp"
    },
    "vscode": {
     "languageId": "dotnet-interactive.csharp"
    }
   },
   "outputs": [
    {
     "name": "stdout",
     "output_type": "stream",
     "text": [
      "n1:33; System.Int32\n",
      "n1:55; System.Int32\n",
      "n1:33; System.String\n",
      "n1:55; System.String\n",
      "n1:99; System.Int32\n",
      "v1:1/1/2021 12:00:00 AM; DateTime\n",
      "v2:77; Decimal\n",
      "v3:A; Char\n",
      "v4:True; Boolean\n",
      "v5:88; String\n"
     ]
    }
   ],
   "source": [
    "int n1=33;\n",
    "int n2 =55;\n",
    "\n",
    "string st1 = n1.ToString();\n",
    "string st2 = Convert.ToString(n2);\n",
    "string s3 =\"99\";\n",
    "int s4 = Convert.ToInt32(s3);\n",
    "\n",
    "Console.WriteLine(\"n1:{0}; {1}\", n1,n1.GetType());\n",
    "Console.WriteLine(\"n1:{0}; {1}\", n2,n1.GetType());\n",
    "Console.WriteLine(\"n1:{0}; {1}\", st1,st1.GetType());\n",
    "Console.WriteLine(\"n1:{0}; {1}\", st2,st2.GetType());\n",
    "Console.WriteLine(\"n1:{0}; {1}\", s4,s4.GetType());\n",
    "\n",
    "// Convert to different data types\n",
    "\n",
    "var v1 = Convert.ToDateTime(\"01/01/2021\");\n",
    "var v2 = Convert.ToDecimal(\"77\");\n",
    "var v3 = Convert.ToChar(\"A\");\n",
    "var v4 = Convert.ToBoolean(\"True\");\n",
    "var v5 = Convert.ToString(88);\n",
    "\n",
    "Console.WriteLine(\"v1:{0}; {1}\", v1,v1.GetType().Name);\n",
    "Console.WriteLine(\"v2:{0}; {1}\", v2,v2.GetType().Name);\n",
    "Console.WriteLine(\"v3:{0}; {1}\", v3,v3.GetType().Name);\n",
    "Console.WriteLine(\"v4:{0}; {1}\", v4,v4.GetType().Name);\n",
    "Console.WriteLine(\"v5:{0}; {1}\", v5,v5.GetType().Name);\n"
   ]
  },
  {
   "cell_type": "markdown",
   "metadata": {},
   "source": [
    "## ChangeType function"
   ]
  },
  {
   "cell_type": "code",
   "execution_count": null,
   "metadata": {
    "dotnet_interactive": {
     "language": "csharp"
    },
    "vscode": {
     "languageId": "dotnet-interactive.csharp"
    }
   },
   "outputs": [
    {
     "name": "stdout",
     "output_type": "stream",
     "text": [
      "Type of V before conversion: \n",
      "Int32\n",
      "Type of V After conversion: \n",
      "String\n"
     ]
    }
   ],
   "source": [
    "//  ChangeType function\n",
    "\n",
    "object v = 33;\n",
    "Console.WriteLine(\"Type of V before conversion: \");\n",
    "Console.WriteLine(v.GetType().Name);\n",
    "v= Convert.ChangeType(v, typeof(string));\n",
    "Console.WriteLine(\"Type of V After conversion: \");\n",
    "Console.WriteLine(v.GetType().Name);"
   ]
  },
  {
   "cell_type": "markdown",
   "metadata": {},
   "source": [
    "# Numbering Sysytem Conversion"
   ]
  },
  {
   "cell_type": "code",
   "execution_count": null,
   "metadata": {
    "dotnet_interactive": {
     "language": "csharp"
    },
    "vscode": {
     "languageId": "dotnet-interactive.csharp"
    }
   },
   "outputs": [
    {
     "name": "stdout",
     "output_type": "stream",
     "text": [
      "hexadecimal: FF\n",
      "Octal:377\n",
      "Octal:11111111\n",
      "Decimal from h:255\n",
      "Decimal from o:255\n",
      "Decimal from b:255\n"
     ]
    }
   ],
   "source": [
    "// check hassouna cs500 for better understanding\n",
    "var num_d =255; // decimal number\n",
    "var num_h = 0xff; // hexadecimal number\n",
    "var num_o = Convert.ToInt32(\"377\",8); // to int takes number in string format and numbering system (8 for octal) \n",
    "var num_b = 0b11111111; // convert binary to  ToInt32(\"111111111,2\")\n",
    "Console.WriteLine(\"hexadecimal: {0:X}\",num_d);\n",
    "Console.WriteLine(\"Octal:{0}\",Convert.ToString(num_d,8));\n",
    "Console.WriteLine(\"Octal:{0}\",Convert.ToString(num_d,2));\n",
    "Console.WriteLine(\"Decimal from h:{0:d}\",num_h);\n",
    "Console.WriteLine(\"Decimal from o:{0:d}\",num_o);\n",
    "Console.WriteLine(\"Decimal from b:{0:d}\",num_b);"
   ]
  },
  {
   "cell_type": "markdown",
   "metadata": {},
   "source": [
    "# Overflow checked\n",
    "will not run the code if data type overflow, unchecked will run the code"
   ]
  },
  {
   "cell_type": "code",
   "execution_count": null,
   "metadata": {
    "dotnet_interactive": {
     "language": "csharp"
    },
    "vscode": {
     "languageId": "dotnet-interactive.csharp"
    }
   },
   "outputs": [],
   "source": [
    "checked{\n",
    "\n",
    "    long num1=21474783648l;\n",
    "    int num2 = (int)num1;\n",
    "    Console.WriteLine(num2);\n",
    "}"
   ]
  },
  {
   "cell_type": "code",
   "execution_count": null,
   "metadata": {
    "dotnet_interactive": {
     "language": "csharp"
    },
    "vscode": {
     "languageId": "dotnet-interactive.csharp"
    }
   },
   "outputs": [
    {
     "name": "stdout",
     "output_type": "stream",
     "text": [
      "-52832\n"
     ]
    }
   ],
   "source": [
    "unchecked{\n",
    "\n",
    "    long num1=21474783648l;\n",
    "    int num2 = (int)num1;\n",
    "    Console.WriteLine(num2);\n",
    "}"
   ]
  }
 ],
 "metadata": {
  "kernelspec": {
   "display_name": ".NET (C#)",
   "language": "C#",
   "name": ".net-csharp"
  },
  "language_info": {
   "file_extension": ".cs",
   "mimetype": "text/x-csharp",
   "name": "C#",
   "pygments_lexer": "csharp",
   "version": "9.0"
  },
  "orig_nbformat": 4
 },
 "nbformat": 4,
 "nbformat_minor": 2
}
