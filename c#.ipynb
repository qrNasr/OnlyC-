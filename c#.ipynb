{
 "cells": [
  {
   "cell_type": "markdown",
   "metadata": {},
   "source": [
    "#Hashet"
   ]
  },
  {
   "cell_type": "code",
   "execution_count": null,
   "metadata": {
    "dotnet_interactive": {
     "language": "csharp"
    },
    "vscode": {
     "languageId": "dotnet-interactive.csharp"
    }
   },
   "outputs": [
    {
     "name": "stdout",
     "output_type": "stream",
     "text": [
      "111\n",
      "222\n",
      "333\n",
      "444\n",
      "555\n"
     ]
    }
   ],
   "source": [
    "// fast, unodered, does not allow repeated values\n",
    "HashSet<int> hs = new HashSet<int>();\n",
    "hs.Add(111); \n",
    "hs.Add(222); \n",
    "hs.Add(333); \n",
    "hs.Add(444); \n",
    "hs.Add(555); \n",
    "// convert hashset to an array\n",
    "var my=hs.ToArray();\n",
    "Console.WriteLine(my[0]);\n",
    "Console.WriteLine(my[1]);\n",
    "Console.WriteLine(my[2]);\n",
    "Console.WriteLine(my[3]);\n",
    "Console.WriteLine(my[4]);\n",
    "\n"
   ]
  },
  {
   "cell_type": "code",
   "execution_count": null,
   "metadata": {
    "dotnet_interactive": {
     "language": "csharp"
    },
    "vscode": {
     "languageId": "dotnet-interactive.csharp"
    }
   },
   "outputs": [
    {
     "name": "stdout",
     "output_type": "stream",
     "text": [
      "Count now : 0\n",
      "Count now : 3\n",
      "Count now : 3\n",
      "Count now : 5\n",
      "Count now : 4\n"
     ]
    }
   ],
   "source": [
    "//does not allow repeated values\n",
    "HashSet<int> hs = new HashSet<int>();\n",
    "\n",
    "Console.WriteLine(\"Count now : {0}\",  hs.Count);// zero value addeed\n",
    "hs.Add(111); \n",
    "hs.Add(222); \n",
    "hs.Add(333); \n",
    "\n",
    "Console.WriteLine(\"Count now : {0}\",  hs.Count);// added 3 values\n",
    "hs.Add(111); \n",
    "hs.Add(333); \n",
    "hs.Add(333);\n",
    "hs.Add(333);\n",
    "\n",
    "Console.WriteLine(\"Count now : {0}\",  hs.Count); \n",
    "hs.Add(444);\n",
    "hs.Add(555);\n",
    "\n",
    "Console.WriteLine(\"Count now : {0}\",  hs.Count);\n",
    "hs.Remove(333);\n",
    "Console.WriteLine(\"Count now : {0}\",  hs.Count);"
   ]
  },
  {
   "cell_type": "markdown",
   "metadata": {},
   "source": [
    "## Reverse objects"
   ]
  },
  {
   "cell_type": "code",
   "execution_count": null,
   "metadata": {
    "dotnet_interactive": {
     "language": "csharp"
    },
    "vscode": {
     "languageId": "dotnet-interactive.csharp"
    }
   },
   "outputs": [
    {
     "name": "stdout",
     "output_type": "stream",
     "text": [
      "3\n",
      "2\n",
      "1\n"
     ]
    }
   ],
   "source": [
    "int [] num = new int []{1,2,3};\n",
    "num=num.Reverse().ToArray();\n",
    "Console.WriteLine(num[0]);\n",
    "Console.WriteLine(num[1]);\n",
    "Console.WriteLine(num[2]);"
   ]
  },
  {
   "cell_type": "markdown",
   "metadata": {},
   "source": [
    "# reverse a list using List<>"
   ]
  },
  {
   "cell_type": "code",
   "execution_count": null,
   "metadata": {
    "dotnet_interactive": {
     "language": "csharp"
    },
    "vscode": {
     "languageId": "dotnet-interactive.csharp"
    }
   },
   "outputs": [
    {
     "name": "stdout",
     "output_type": "stream",
     "text": [
      "3\n",
      "2\n",
      "1\n"
     ]
    }
   ],
   "source": [
    "List<int> num = new List<int>();\n",
    "num.Add(1);\n",
    "num.Add(2);\n",
    "num.Add(3);\n",
    "num.Reverse();\n",
    "Console.WriteLine(num[0]);\n",
    "Console.WriteLine(num[1]);\n",
    "Console.WriteLine(num[2]);"
   ]
  },
  {
   "cell_type": "markdown",
   "metadata": {},
   "source": [
    "# MultiDimensionaly Array"
   ]
  }
 ],
 "metadata": {
  "kernelspec": {
   "display_name": ".NET (C#)",
   "language": "C#",
   "name": ".net-csharp"
  },
  "language_info": {
   "file_extension": ".cs",
   "mimetype": "text/x-csharp",
   "name": "C#",
   "pygments_lexer": "csharp",
   "version": "9.0"
  },
  "orig_nbformat": 4
 },
 "nbformat": 4,
 "nbformat_minor": 2
}
